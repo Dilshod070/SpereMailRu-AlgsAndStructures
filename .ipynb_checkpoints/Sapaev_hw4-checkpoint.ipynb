{
 "cells": [
  {
   "cell_type": "markdown",
   "metadata": {},
   "source": [
    "# Алгоритмы интеллектуальной обработки больших объемов данных\n",
    "## Домашнее задание №4 - Метод k-средних, предобработка признаков\n"
   ]
  },
  {
   "cell_type": "markdown",
   "metadata": {},
   "source": [
    "###### <hr\\>\n",
    "**Общая информация**\n",
    "\n",
    "**Срок сдачи:** 28 ноября 2018, 06:00 <br\\>\n",
    "**Штраф за опоздание:** -2 балла после 06:00 28 ноября, -4 балла после 06:00 5 декабря, -6 баллов после 06:00 12 декабря, -8 баллов после 19 декабря\n",
    "\n",
    "При отправлении ДЗ указывайте фамилию в названии файла\n",
    "Присылать ДЗ необходимо в виде ссылки на свой github репозиторий в slack @alkhamush\n",
    "\n",
    "Необходимо в slack создать таск в приватный чат:\n",
    "/todo Фамилия Имя ссылка на гитхаб @alkhamush\n",
    "Пример:\n",
    "/todo Ксения Стройкова https://github.com/stroykova/spheremailru/stroykova_hw1.ipynb @alkhamush\n",
    "Дополнительно нужно просто скинуть ссылку в slack в личный чат\n",
    "\n",
    "Используйте данный Ipython Notebook при оформлении домашнего задания."
   ]
  },
  {
   "cell_type": "markdown",
   "metadata": {},
   "source": [
    "# Имплементация K-means\n",
    "\n",
    "Пользуясь наработками выше, имплементируйте метод k-means.  \n",
    "При инициализации необходимо задавать количество кластеров, функцию расстояния между кластерами (для оригинального k-means - евклидово расстояние) и начальное состояние генератора случайных чисел.\n",
    "\n",
    "После обучения, среди атрибутов класса `Kmeans` должны появится\n",
    "* Метки кластеров для объектов\n",
    "* Координаты центройдов кластеров\n",
    "\n",
    "k-means - это алгоритм **кластеризации**, а не классификации, а посему метод `.predict()` в нем фактически не нужен, но он может возвращать метки ближайшего кластера для объектов."
   ]
  },
  {
   "cell_type": "markdown",
   "metadata": {},
   "source": [
    "###### Задание 1 (2 баллов)\n",
    "Имплементируйте метод k-means. Задание считается выполненным, если Ваша реализация работает быстрее реализации из sklearn.\n",
    "\n",
    "Теория для выполнения задания 2 и 3 остаётся на самостоятельное изучение. Теории немного и она совсем простая.\n",
    "\n",
    "###### Задание 2 (2 балла)\n",
    "Имплементируйте класс MiniBatchKMeans, который является классом наследником Kmeans.\n",
    "\n",
    "###### Задание 3 (2 балла)\n",
    "Превратите k-means в k-means++. Для этого нужно реализовать метод в классе Kmeans, который будет инициализировать более \"хорошие\" значения центроидов. Чтобы использовался метод k-means++, в параметр init необходимо передать строковое значение 'k-means' (по умолчанию 'random').\n",
    "\n",
    "###### Задание 4 (2 балла)\n",
    "В пункте \"Проверка корректности метода\" нужно нарисовать графики, которые показывают зависимость времени выполнения алгоритма от количества сэмплов. Графики должны быть  нарисованы для различных комбинаций реализаций алгоритма (k-means, k-means++, k-means с MiniBatchKMeans, k-means++ с MiniBatchKMeans). График достаточно построить на 5-10 точках.\n",
    "\n",
    "###### Задание 5 (2 балла)\n",
    "В пункте \"Применение K-means на реальных данных\" нужно сравнить различные реализации k-means (k-means, k-means++, k-means с MiniBatchKMeans, k-means++ с MiniBatchKMeans). После чего написать вывод, в котором должно быть объяснение того, почему один алгоритм оказался лучше остальных или почему не было выявлено лучшего алгоритма.\n",
    "\n",
    "**Штрафные баллы:**\n",
    "\n",
    "1. Невыполнение PEP8 -1 балл\n",
    "2. Отсутствие фамилии в имени скрипта (скрипт должен называться по аналогии со stroykova_hw4.ipynb) -1 балл\n",
    "3. Все строчки должны быть выполнены. Нужно, чтобы output команды можно было увидеть уже в git'е. В противном случае -1 балл\n",
    "4. При оформлении ДЗ нужно пользоваться данным файлом в качестве шаблона. Не нужно удалять и видоизменять написанный код и текст. В противном случае -1 балл\n",
    "<hr\\>"
   ]
  },
  {
   "cell_type": "code",
   "execution_count": 37,
   "metadata": {},
   "outputs": [],
   "source": [
    "import pandas as pd\n",
    "import numpy as np\n",
    "import matplotlib.pyplot as plt\n",
    "import copy\n",
    "\n",
    "from sklearn.preprocessing import StandardScaler\n",
    "from sklearn.cluster import KMeans\n",
    "from timeit import default_timer\n",
    "\n",
    "%matplotlib inline\n",
    "\n",
    "plt.style.use('ggplot')\n",
    "plt.rcParams['figure.figsize'] = (12,5)\n",
    "\n",
    "# %load_ext pycodestyle_magic"
   ]
  },
  {
   "cell_type": "code",
   "execution_count": 39,
   "metadata": {},
   "outputs": [],
   "source": [
    "# %%pycodestyle\n",
    "\n",
    "\n",
    "class MyKmeans: \n",
    "    \n",
    "    def __init__(self, k=2, metric='euclidean', max_iter=1000, \n",
    "                 random_state=None, init='random', epsilon=0.001):\n",
    "        \"\"\"\n",
    "        Инициализация метода\n",
    "        :k - количество кластеров\n",
    "        :metric - функция расстояния между объектами\n",
    "        :max_iter - максиальное количество итераций\n",
    "        :random_state - seed для инициализации генератора случайных чисел\n",
    "        :init - медод инициализации начальных центроид\n",
    "        \"\"\"\n",
    "        \n",
    "        self.k = k\n",
    "        self.epsilon = epsilon\n",
    "        self.random_state = random_state\n",
    "        self.metric = metric\n",
    "        self.max_iter = max_iter\n",
    "        \n",
    "        if metric == 'euclidean':\n",
    "            self.dist_function = self.distance_euclidean\n",
    "        else:\n",
    "            raise RuntimeError(metric)\n",
    "        \n",
    "        if init == 'random':\n",
    "            self.init_centroids_function = self.init_centroids_random\n",
    "        elif init == 'k-means++':\n",
    "            self.init_centroids_function = self.init_centroids_kmeans_pp\n",
    "        else:\n",
    "            raise RuntimeError(init)\n",
    "    \n",
    "    def init_centroids_random(self):\n",
    "        return np.random.randn(self.k, self.X.shape[1])\n",
    "    \n",
    "    def init_centroids_kmeans_pp(self):\n",
    "        centr = np.empty((self.k, self.X.shape[1]))\n",
    "        centr[0] = self.X[np.random.choice(self.X.shape[0])]\n",
    "        for i in range(1, self.k):\n",
    "            tmp_distances = self.dist_function(self.X, centr[:i, :]).min(axis=0)\n",
    "            centr[i] = self.X[np.random.choice(self.X.shape[0], \n",
    "                                               p=tmp_distances/tmp_distances.sum())]\n",
    "        return centr\n",
    "    \n",
    "    def distance_euclidean(self, X, cent):\n",
    "        X1 = np.sum(X ** 2, axis=1).reshape(-1, 1)\n",
    "        X2 = np.sum(cent ** 2, axis=1).reshape(1, -1)\n",
    "        return np.sqrt(X1 - 2 * np.dot(X, cent.T) + X2).T\n",
    "    \n",
    "    def fit(self, X, y=None):\n",
    "        \"\"\"\n",
    "        Процедура обучения k-means\n",
    "        \"\"\"\n",
    "        \n",
    "        # Инициализация генератора случайных чисел\n",
    "        np.random.seed(self.random_state)\n",
    "        \n",
    "        # Массив с метками кластеров для каждого объекта из X\n",
    "        self.labels = np.empty(X.shape[0])\n",
    "        \n",
    "        # Массив с центройдами кластеров\n",
    "        self.centroids = np.empty((self.k, X.shape[1]))\n",
    "        self.centroids_new = np.empty((self.k, X.shape[1]))\n",
    "        \n",
    "        ## Your Code Here\n",
    "        # ...\n",
    "        \n",
    "        self.X = np.array(X)\n",
    "        self.y = np.array(X)\n",
    "        self.centroids = self.init_centroids_function()\n",
    "        \n",
    "        for _ in range(self.max_iter):\n",
    "            self.labels = self.dist_function(self.X, self.centroids).argmin(axis=0)\n",
    "            for i in range(self.k):\n",
    "                if np.any(self.labels == i):\n",
    "                    self.centroids_new[i] = np.mean(self.X[self.labels == i], axis=0)\n",
    "                else:\n",
    "                    self.centroids_new[i] = self.X[np.random.choice(X.shape[1])]\n",
    "\n",
    "            if np.sum(abs(self.centroids - self.centroids_new)) < self.epsilon:\n",
    "                self.centroids = np.copy(self.centroids_new)\n",
    "                break\n",
    "                \n",
    "            self.centroids = np.copy(self.centroids_new)\n",
    "            \n",
    "        self.labels = self.dist_function(self.X, self.centroids).argmin(axis=0)\n",
    "        return self\n",
    "\n",
    "    def predict(self, X, y=None):\n",
    "        \"\"\"\n",
    "        Процедура предсказания кластера\n",
    "        \n",
    "        Возвращает метку ближайшего кластера для каждого объекта\n",
    "        \"\"\"\n",
    "        X = np.array(X)\n",
    "        return self.dist_function(X, self.centroids).argmin(axis=0)"
   ]
  },
  {
   "cell_type": "code",
   "execution_count": 40,
   "metadata": {},
   "outputs": [],
   "source": [
    "class MiniBatchKMeans(MyKmeans):\n",
    "    \n",
    "    def __init__(self, k=2, metric='euclidean', max_iter=1000, \n",
    "                 random_state=None, init='random', epsilon=0.001,\n",
    "                 batch_size=1):\n",
    "            \n",
    "        super(MiniBatchKMeans, self).__init__(k=k, metric=metric, max_iter=max_iter, \n",
    "                                              random_state=random_state, init=init, \n",
    "                                              epsilon=epsilon)\n",
    "        self.batch_size = batch_size\n",
    "    \n",
    "    def gen_batch(self, X):\n",
    "        indexes = np.random.permutation(X.shape[0])\n",
    "        return X[indexes]\n",
    "    \n",
    "    def fit(self, X, y=None):\n",
    "        np.random.seed(self.random_state)\n",
    "        \n",
    "        self.labels = np.empty(X.shape[0])\n",
    "        \n",
    "        self.centroids = np.empty((self.k, X.shape[1]))\n",
    "        self.centroids_new = np.empty((self.k, X.shape[1]))\n",
    "        \n",
    "        self.X = np.array(X)\n",
    "        self.y = np.array(X)\n",
    "        self.centroids = self.init_centroids_function()\n",
    "        \n",
    "        for _ in range(self.max_iter):\n",
    "            self.labels = self.dist_function(self.X, self.centroids).argmin(axis=0)\n",
    "            for i in range(self.k):\n",
    "                if np.any(self.labels == i):\n",
    "                    batch = self.gen_batch(self.X[self.labels == i])\n",
    "                    self.centroids_new[i] = np.mean(batch, axis=0)\n",
    "                else:\n",
    "                    self.centroids_new[i] = self.X[np.random.choice(X.shape[1])]\n",
    "\n",
    "            if np.sum(abs(self.centroids - self.centroids_new)) < self.epsilon:\n",
    "                self.centroids = np.copy(self.centroids_new)\n",
    "                break\n",
    "                \n",
    "            self.centroids = np.copy(self.centroids_new)\n",
    "            \n",
    "        self.labels = self.dist_function(self.X, self.centroids).argmin(axis=0)\n",
    "        return self"
   ]
  },
  {
   "cell_type": "markdown",
   "metadata": {},
   "source": [
    "### Проверка корректности метода\n",
    "\n",
    "Перед тем как применять алгоритм на реальных данных, нужно испытать его на простых \"игрушечных\" данных.\n",
    "\n",
    "Если алгоритм реализован правильно, то метод должен идеально разбивать на 3 кластера данные ниже. Проверьте это.\n",
    "\n",
    "ВНИМАНИЕ! Проверка должна быть осуществлена на всех реализациях, иначе реализация не будет зачтена!"
   ]
  },
  {
   "cell_type": "code",
   "execution_count": 41,
   "metadata": {},
   "outputs": [],
   "source": [
    "from sklearn.datasets import make_blobs"
   ]
  },
  {
   "cell_type": "code",
   "execution_count": 42,
   "metadata": {},
   "outputs": [],
   "source": [
    "X, y = make_blobs(n_samples=100, n_features=2, centers=3, cluster_std=1, \n",
    "           center_box=(-10.0, 10.0), shuffle=False, random_state=1234)"
   ]
  },
  {
   "cell_type": "code",
   "execution_count": 43,
   "metadata": {},
   "outputs": [],
   "source": [
    "X = (X - np.mean(X, axis=0)) / np.std(X, axis=0)"
   ]
  },
  {
   "cell_type": "code",
   "execution_count": 44,
   "metadata": {},
   "outputs": [
    {
     "data": {
      "text/plain": [
       "<matplotlib.collections.PathCollection at 0x1a18de7550>"
      ]
     },
     "execution_count": 44,
     "metadata": {},
     "output_type": "execute_result"
    },
    {
     "data": {
      "image/png": "[encoded data removed]",
      "text/plain": [
       "<Figure size 864x360 with 1 Axes>"
      ]
     },
     "metadata": {},
     "output_type": "display_data"
    }
   ],
   "source": [
    "plt.scatter(X[:,0], X[:, 1], c=y)"
   ]
  },
  {
   "cell_type": "markdown",
   "metadata": {},
   "source": [
    "Проверьте Вашу имплементацию на простых данных (без этого пункта ДЗ не считается выполненным).   \n",
    "КОММЕНТАРИИ НЕ СТИРАТЬ!"
   ]
  },
  {
   "cell_type": "code",
   "execution_count": 45,
   "metadata": {},
   "outputs": [],
   "source": [
    "## Работоспособность MyKmeans"
   ]
  },
  {
   "cell_type": "code",
   "execution_count": 46,
   "metadata": {
    "scrolled": true
   },
   "outputs": [
    {
     "data": {
      "text/plain": [
       "<matplotlib.collections.PathCollection at 0x104da30f0>"
      ]
     },
     "execution_count": 46,
     "metadata": {},
     "output_type": "execute_result"
    },
    {
     "data": {
      "image/png": "[encoded data removed]",
      "text/plain": [
       "<Figure size 864x360 with 1 Axes>"
      ]
     },
     "metadata": {},
     "output_type": "display_data"
    }
   ],
   "source": [
    "clf = MyKmeans(k=3, metric='euclidean' , init='random')\n",
    "clf.fit(X, y)\n",
    "plt.scatter(X[:,0], X[:, 1], marker='.', c='r')\n",
    "plt.scatter(clf.centroids[:,0], clf.centroids[:, 1], marker='o', c='g')"
   ]
  },
  {
   "cell_type": "code",
   "execution_count": 47,
   "metadata": {},
   "outputs": [
    {
     "name": "stdout",
     "output_type": "stream",
     "text": [
      "[2 2 2 2 2 2 2 2 2 2 2 2 2 2 2 2 2 2 2 2 2 2 2 2 2 2 2 2 2 2 2 2 2 2 0 0 0\n",
      " 0 0 0 0 0 0 0 0 0 0 0 0 0 0 0 0 0 0 0 0 0 0 0 0 0 0 0 0 0 0 1 1 1 1 1 1 1\n",
      " 1 1 1 1 1 1 1 1 1 1 1 1 1 1 1 1 1 1 1 1 1 1 1 1 1 1]\n"
     ]
    }
   ],
   "source": [
    "print(clf.predict(X))"
   ]
  },
  {
   "cell_type": "code",
   "execution_count": 48,
   "metadata": {},
   "outputs": [],
   "source": [
    "## Работоспособность MyKmeans++"
   ]
  },
  {
   "cell_type": "code",
   "execution_count": 49,
   "metadata": {},
   "outputs": [
    {
     "data": {
      "text/plain": [
       "<matplotlib.collections.PathCollection at 0x10c838128>"
      ]
     },
     "execution_count": 49,
     "metadata": {},
     "output_type": "execute_result"
    },
    {
     "data": {
      "image/png": "[encoded data removed]",
      "text/plain": [
       "<Figure size 864x360 with 1 Axes>"
      ]
     },
     "metadata": {},
     "output_type": "display_data"
    }
   ],
   "source": [
    "clf_kpp = MyKmeans(k=3, metric='euclidean' , init='k-means++')\n",
    "clf_kpp.fit(X, y)\n",
    "plt.scatter(X[:,0], X[:, 1], marker='.', c='r')\n",
    "plt.scatter(clf_kpp.centroids[:,0], clf_kpp.centroids[:, 1], marker='o', c='g')"
   ]
  },
  {
   "cell_type": "code",
   "execution_count": 50,
   "metadata": {},
   "outputs": [
    {
     "name": "stdout",
     "output_type": "stream",
     "text": [
      "[1 1 1 1 1 1 1 1 1 1 1 1 1 1 1 1 1 1 1 1 1 1 1 1 1 1 1 1 1 1 1 1 1 1 2 2 2\n",
      " 2 2 2 2 2 2 2 2 2 2 2 2 2 2 2 2 2 2 2 2 2 2 2 2 2 2 2 2 2 2 0 0 0 0 0 0 0\n",
      " 0 0 0 0 0 0 0 0 0 0 0 0 0 0 0 0 0 0 0 0 0 0 0 0 0 0]\n"
     ]
    }
   ],
   "source": [
    "print(clf_kpp.predict(X))"
   ]
  },
  {
   "cell_type": "code",
   "execution_count": 51,
   "metadata": {},
   "outputs": [],
   "source": [
    "## Работоспособность MyKmeans с MiniBatchMyKmeans"
   ]
  },
  {
   "cell_type": "code",
   "execution_count": 52,
   "metadata": {},
   "outputs": [
    {
     "data": {
      "text/plain": [
       "<matplotlib.collections.PathCollection at 0x1a19135b00>"
      ]
     },
     "execution_count": 52,
     "metadata": {},
     "output_type": "execute_result"
    },
    {
     "data": {
      "image/png": "[encoded data removed]",
      "text/plain": [
       "<Figure size 864x360 with 1 Axes>"
      ]
     },
     "metadata": {},
     "output_type": "display_data"
    }
   ],
   "source": [
    "clf_mb = MiniBatchKMeans(k=3, batch_size=16)\n",
    "clf_mb.fit(X, y)\n",
    "plt.scatter(X[:,0], X[:, 1], marker='.', c='r')\n",
    "plt.scatter(clf_mb.centroids[:,0], clf_mb.centroids[:, 1], marker='o', c='g')"
   ]
  },
  {
   "cell_type": "code",
   "execution_count": 53,
   "metadata": {},
   "outputs": [
    {
     "name": "stdout",
     "output_type": "stream",
     "text": [
      "[0 0 0 0 0 0 0 0 0 0 0 0 0 0 0 0 0 0 0 0 0 0 0 0 0 0 0 0 0 0 0 0 0 0 1 1 1\n",
      " 1 1 1 1 1 1 1 1 1 1 1 1 1 1 1 1 1 1 1 1 1 1 1 1 1 1 1 1 1 1 2 2 2 2 2 2 2\n",
      " 2 2 2 2 2 2 2 2 2 2 2 2 2 2 2 2 2 2 2 2 2 2 2 2 2 2]\n"
     ]
    }
   ],
   "source": [
    "print(clf_mb.predict(X))"
   ]
  },
  {
   "cell_type": "code",
   "execution_count": 54,
   "metadata": {},
   "outputs": [],
   "source": [
    "## Работоспособность MyKmeans++ с MiniBatchMyKmeans"
   ]
  },
  {
   "cell_type": "code",
   "execution_count": 55,
   "metadata": {},
   "outputs": [
    {
     "data": {
      "text/plain": [
       "<matplotlib.collections.PathCollection at 0x1a1951e5f8>"
      ]
     },
     "execution_count": 55,
     "metadata": {},
     "output_type": "execute_result"
    },
    {
     "data": {
      "image/png": "[encoded data removed]",
      "text/plain": [
       "<Figure size 864x360 with 1 Axes>"
      ]
     },
     "metadata": {},
     "output_type": "display_data"
    }
   ],
   "source": [
    "clf_kpp_mb = MiniBatchKMeans(k=3, init='k-means++' , batch_size=16)\n",
    "clf_kpp_mb.fit(X, y)\n",
    "plt.scatter(X[:,0], X[:, 1], marker='.', c='r')\n",
    "plt.scatter(clf_kpp_mb.centroids[:,0], clf_kpp_mb.centroids[:, 1], marker='o', c='g')"
   ]
  },
  {
   "cell_type": "code",
   "execution_count": 56,
   "metadata": {},
   "outputs": [
    {
     "name": "stdout",
     "output_type": "stream",
     "text": [
      "[0 0 0 0 0 0 0 0 0 0 0 0 0 0 0 0 0 0 0 0 0 0 0 0 0 0 0 0 0 0 0 0 0 0 2 2 2\n",
      " 2 2 2 2 2 2 2 2 2 2 2 2 2 2 2 2 2 2 2 2 2 2 2 2 2 2 2 2 2 2 1 1 1 1 1 1 1\n",
      " 1 1 1 1 1 1 1 1 1 1 1 1 1 1 1 1 1 1 1 1 1 1 1 1 1 1]\n"
     ]
    }
   ],
   "source": [
    "print(clf_kpp_mb.predict(X))"
   ]
  },
  {
   "cell_type": "code",
   "execution_count": 57,
   "metadata": {},
   "outputs": [
    {
     "name": "stdout",
     "output_type": "stream",
     "text": [
      "CPU times: user 11.4 ms, sys: 1.91 ms, total: 13.3 ms\n",
      "Wall time: 11.5 ms\n"
     ]
    }
   ],
   "source": [
    "%%time\n",
    "## Время выполнения алгоритма MyKmeans\n",
    "clf = KMeans(n_clusters=3, max_iter=1000, init='random')\n",
    "clf.fit(X, y)"
   ]
  },
  {
   "cell_type": "code",
   "execution_count": 58,
   "metadata": {},
   "outputs": [
    {
     "name": "stdout",
     "output_type": "stream",
     "text": [
      "CPU times: user 2.41 ms, sys: 2.45 ms, total: 4.86 ms\n",
      "Wall time: 3.78 ms\n"
     ]
    }
   ],
   "source": [
    "%%time\n",
    "## Время выполнения алгоритма MyKmeans\n",
    "my_clf = MyKmeans(k=3, max_iter=1000)\n",
    "my_clf.fit(X, y)"
   ]
  },
  {
   "cell_type": "code",
   "execution_count": 59,
   "metadata": {},
   "outputs": [
    {
     "name": "stdout",
     "output_type": "stream",
     "text": [
      "CPU times: user 3 ms, sys: 3.29 ms, total: 6.29 ms\n",
      "Wall time: 4.48 ms\n"
     ]
    }
   ],
   "source": [
    "%%time\n",
    "## Время выполнения алгоритма MyKmeans++\n",
    "my_clf_kpp = MyKmeans(k=3, init='k-means++', max_iter=1000)\n",
    "my_clf_kpp.fit(X, y)"
   ]
  },
  {
   "cell_type": "code",
   "execution_count": 60,
   "metadata": {},
   "outputs": [
    {
     "name": "stdout",
     "output_type": "stream",
     "text": [
      "CPU times: user 3.14 ms, sys: 3.11 ms, total: 6.25 ms\n",
      "Wall time: 4.91 ms\n"
     ]
    }
   ],
   "source": [
    "%%time\n",
    "## Время выполнения алгоритма MyKmeans с MiniBatchMyKmeans\n",
    "my_clf_kpp_mb = MiniBatchKMeans(k=3, batch_size=16, max_iter=1000)\n",
    "my_clf_kpp_mb.fit(X, y)"
   ]
  },
  {
   "cell_type": "code",
   "execution_count": 61,
   "metadata": {},
   "outputs": [
    {
     "name": "stdout",
     "output_type": "stream",
     "text": [
      "CPU times: user 2.67 ms, sys: 2.87 ms, total: 5.54 ms\n",
      "Wall time: 4.22 ms\n"
     ]
    }
   ],
   "source": [
    "%%time\n",
    "## Время выполнения алгоритма  MyKmeans++ с MiniBatchMyKmeans\n",
    "my_clf_kpp_mb = MiniBatchKMeans(k=3, init='k-means++', batch_size=16, max_iter=1000)\n",
    "my_clf_kpp_mb.fit(X, y)"
   ]
  },
  {
   "cell_type": "code",
   "execution_count": 62,
   "metadata": {},
   "outputs": [
    {
     "data": {
      "image/png": "[encoded data removed]",
      "text/plain": [
       "<Figure size 864x360 with 1 Axes>"
      ]
     },
     "metadata": {},
     "output_type": "display_data"
    }
   ],
   "source": [
    "# Проверка времени работы\n",
    "sizes = np.linspace(3, 50000, 20, dtype=int)\n",
    "methods = [(KMeans(n_clusters=3, max_iter=100), 'sklearn KMeans'),\n",
    "          (MyKmeans(k=3, max_iter=100, random_state=42), 'MyKmeans'),\n",
    "          (MyKmeans(k=3, max_iter=100, random_state=42, init='k-means++'), 'MyKmeans++'),\n",
    "          (MiniBatchKMeans(k=3, max_iter=100, random_state=42, batch_size=10), 'MiniBatchKMeans'),\n",
    "          (MiniBatchKMeans(k=3, max_iter=100, random_state=42, \n",
    "                           init='k-means++', batch_size=10), 'MiniBatchKMeans++')]\n",
    "\n",
    "time = np.empty((len(methods), sizes.shape[0]))\n",
    "for a, k in enumerate(sizes):\n",
    "    X, y = make_blobs(n_samples=k, n_features=2, centers=3,\n",
    "                      cluster_std=1, shuffle=True, random_state=42)\n",
    "\n",
    "    for b, method in enumerate(methods):\n",
    "        time0 = default_timer()\n",
    "        method[0].fit(X)\n",
    "        time[b][a] = default_timer() - time0\n",
    "\n",
    "for i, method in enumerate(methods):\n",
    "    plt.plot(sizes, time[i], label=method[1])\n",
    "\n",
    "plt.xlabel('Количество точек')\n",
    "plt.ylabel('Время работы')\n",
    "plt.legend()\n",
    "plt.show()"
   ]
  },
  {
   "cell_type": "code",
   "execution_count": 63,
   "metadata": {},
   "outputs": [],
   "source": [
    "# Вопрос на засыпку, откуда эти пики в sklearn и в k-means++\n",
    "# Ответа на этот вопрос я не знаю :с"
   ]
  },
  {
   "cell_type": "markdown",
   "metadata": {},
   "source": [
    "# Применение K-means на реальных данных"
   ]
  },
  {
   "cell_type": "markdown",
   "metadata": {},
   "source": [
    "Загрузите [данные](https://github.com/brenden17/sklearnlab/blob/master/facebook/snsdata.csv) в которых содержится описание интересов профилей учеников старшей школы США.  (без этого пункта задание не считается выполненным).   \n",
    "ВНИМАНИЕ! Проверка должна быть осуществлена на всех реализациях, иначе реализация не будет зачтена!"
   ]
  },
  {
   "cell_type": "code",
   "execution_count": 64,
   "metadata": {},
   "outputs": [
    {
     "data": {
      "text/html": [
       "<div>\n",
       "<style scoped>\n",
       "    .dataframe tbody tr th:only-of-type {\n",
       "        vertical-align: middle;\n",
       "    }\n",
       "\n",
       "    .dataframe tbody tr th {\n",
       "        vertical-align: top;\n",
       "    }\n",
       "\n",
       "    .dataframe thead th {\n",
       "        text-align: right;\n",
       "    }\n",
       "</style>\n",
       "<table border=\"1\" class=\"dataframe\">\n",
       "  <thead>\n",
       "    <tr style=\"text-align: right;\">\n",
       "      <th></th>\n",
       "      <th>gradyear</th>\n",
       "      <th>gender</th>\n",
       "      <th>age</th>\n",
       "      <th>friends</th>\n",
       "      <th>basketball</th>\n",
       "      <th>football</th>\n",
       "      <th>soccer</th>\n",
       "      <th>softball</th>\n",
       "      <th>volleyball</th>\n",
       "      <th>swimming</th>\n",
       "      <th>...</th>\n",
       "      <th>blonde</th>\n",
       "      <th>mall</th>\n",
       "      <th>shopping</th>\n",
       "      <th>clothes</th>\n",
       "      <th>hollister</th>\n",
       "      <th>abercrombie</th>\n",
       "      <th>die</th>\n",
       "      <th>death</th>\n",
       "      <th>drunk</th>\n",
       "      <th>drugs</th>\n",
       "    </tr>\n",
       "  </thead>\n",
       "  <tbody>\n",
       "    <tr>\n",
       "      <th>0</th>\n",
       "      <td>2006</td>\n",
       "      <td>M</td>\n",
       "      <td>18.982</td>\n",
       "      <td>7</td>\n",
       "      <td>0</td>\n",
       "      <td>0</td>\n",
       "      <td>0</td>\n",
       "      <td>0</td>\n",
       "      <td>0</td>\n",
       "      <td>0</td>\n",
       "      <td>...</td>\n",
       "      <td>0</td>\n",
       "      <td>0</td>\n",
       "      <td>0</td>\n",
       "      <td>0</td>\n",
       "      <td>0</td>\n",
       "      <td>0</td>\n",
       "      <td>0</td>\n",
       "      <td>0</td>\n",
       "      <td>0</td>\n",
       "      <td>0</td>\n",
       "    </tr>\n",
       "    <tr>\n",
       "      <th>1</th>\n",
       "      <td>2006</td>\n",
       "      <td>F</td>\n",
       "      <td>18.801</td>\n",
       "      <td>0</td>\n",
       "      <td>0</td>\n",
       "      <td>1</td>\n",
       "      <td>0</td>\n",
       "      <td>0</td>\n",
       "      <td>0</td>\n",
       "      <td>0</td>\n",
       "      <td>...</td>\n",
       "      <td>0</td>\n",
       "      <td>1</td>\n",
       "      <td>0</td>\n",
       "      <td>0</td>\n",
       "      <td>0</td>\n",
       "      <td>0</td>\n",
       "      <td>0</td>\n",
       "      <td>0</td>\n",
       "      <td>0</td>\n",
       "      <td>0</td>\n",
       "    </tr>\n",
       "    <tr>\n",
       "      <th>2</th>\n",
       "      <td>2006</td>\n",
       "      <td>M</td>\n",
       "      <td>18.335</td>\n",
       "      <td>69</td>\n",
       "      <td>0</td>\n",
       "      <td>1</td>\n",
       "      <td>0</td>\n",
       "      <td>0</td>\n",
       "      <td>0</td>\n",
       "      <td>0</td>\n",
       "      <td>...</td>\n",
       "      <td>0</td>\n",
       "      <td>0</td>\n",
       "      <td>0</td>\n",
       "      <td>0</td>\n",
       "      <td>0</td>\n",
       "      <td>0</td>\n",
       "      <td>0</td>\n",
       "      <td>1</td>\n",
       "      <td>0</td>\n",
       "      <td>0</td>\n",
       "    </tr>\n",
       "    <tr>\n",
       "      <th>3</th>\n",
       "      <td>2006</td>\n",
       "      <td>F</td>\n",
       "      <td>18.875</td>\n",
       "      <td>0</td>\n",
       "      <td>0</td>\n",
       "      <td>0</td>\n",
       "      <td>0</td>\n",
       "      <td>0</td>\n",
       "      <td>0</td>\n",
       "      <td>0</td>\n",
       "      <td>...</td>\n",
       "      <td>0</td>\n",
       "      <td>0</td>\n",
       "      <td>0</td>\n",
       "      <td>0</td>\n",
       "      <td>0</td>\n",
       "      <td>0</td>\n",
       "      <td>0</td>\n",
       "      <td>0</td>\n",
       "      <td>0</td>\n",
       "      <td>0</td>\n",
       "    </tr>\n",
       "    <tr>\n",
       "      <th>4</th>\n",
       "      <td>2006</td>\n",
       "      <td>NaN</td>\n",
       "      <td>18.995</td>\n",
       "      <td>10</td>\n",
       "      <td>0</td>\n",
       "      <td>0</td>\n",
       "      <td>0</td>\n",
       "      <td>0</td>\n",
       "      <td>0</td>\n",
       "      <td>0</td>\n",
       "      <td>...</td>\n",
       "      <td>0</td>\n",
       "      <td>0</td>\n",
       "      <td>2</td>\n",
       "      <td>0</td>\n",
       "      <td>0</td>\n",
       "      <td>0</td>\n",
       "      <td>0</td>\n",
       "      <td>0</td>\n",
       "      <td>1</td>\n",
       "      <td>1</td>\n",
       "    </tr>\n",
       "  </tbody>\n",
       "</table>\n",
       "<p>5 rows × 40 columns</p>\n",
       "</div>"
      ],
      "text/plain": [
       "   gradyear gender     age  friends  basketball  football  soccer  softball  \\\n",
       "0      2006      M  18.982        7           0         0       0         0   \n",
       "1      2006      F  18.801        0           0         1       0         0   \n",
       "2      2006      M  18.335       69           0         1       0         0   \n",
       "3      2006      F  18.875        0           0         0       0         0   \n",
       "4      2006    NaN  18.995       10           0         0       0         0   \n",
       "\n",
       "   volleyball  swimming  ...    blonde  mall  shopping  clothes  hollister  \\\n",
       "0           0         0  ...         0     0         0        0          0   \n",
       "1           0         0  ...         0     1         0        0          0   \n",
       "2           0         0  ...         0     0         0        0          0   \n",
       "3           0         0  ...         0     0         0        0          0   \n",
       "4           0         0  ...         0     0         2        0          0   \n",
       "\n",
       "   abercrombie  die  death  drunk  drugs  \n",
       "0            0    0      0      0      0  \n",
       "1            0    0      0      0      0  \n",
       "2            0    0      1      0      0  \n",
       "3            0    0      0      0      0  \n",
       "4            0    0      0      1      1  \n",
       "\n",
       "[5 rows x 40 columns]"
      ]
     },
     "execution_count": 64,
     "metadata": {},
     "output_type": "execute_result"
    }
   ],
   "source": [
    "df_sns = pd.read_csv('snsdata.csv', sep=',')\n",
    "df_sns.head()"
   ]
  },
  {
   "cell_type": "markdown",
   "metadata": {},
   "source": [
    "Данные устроены так: \n",
    "* Год выпуска\n",
    "* Пол\n",
    "* Возраст\n",
    "* Количество друзей\n",
    "* 36 ключевых слов, которые встречаются в профилe facebook (интересы, сообщества, встречи)"
   ]
  },
  {
   "cell_type": "markdown",
   "metadata": {},
   "source": [
    "* Удалите все признаки кроме 36 ключевых слов.\n",
    "* Нормализуйте данные - из каждого столбца вычтите его среднее значение и поделите на стандартное отклонение.\n",
    "* Используйте метод k-means чтобы выделить 9 кластеров\n",
    "* Попробуйте проинтерпретировать каждый кластер проанализировав полученные центройды (Некоторые кластеры могут быть очень большие и очень маленькие - плохо интерпретируются)   \n",
    "КОММЕНТАРИИ НЕ СТИРАТЬ!"
   ]
  },
  {
   "cell_type": "code",
   "execution_count": 65,
   "metadata": {},
   "outputs": [],
   "source": [
    "# Предобработка\n",
    "df_sns = df_sns.iloc[:, 4:]"
   ]
  },
  {
   "cell_type": "code",
   "execution_count": 66,
   "metadata": {},
   "outputs": [],
   "source": [
    "df_sns.head()\n",
    "df_sns = (df_sns - df_sns.mean(axis=0)) / df_sns.std(axis=0)"
   ]
  },
  {
   "cell_type": "code",
   "execution_count": 67,
   "metadata": {},
   "outputs": [],
   "source": [
    "N = 9 # Кластеров"
   ]
  },
  {
   "cell_type": "code",
   "execution_count": 68,
   "metadata": {},
   "outputs": [],
   "source": [
    "def info_features(clf, X, fnum=7, N=9):\n",
    "    for i in range(N):\n",
    "        X_tmp = clf.predict(X)\n",
    "        X_cur = X[clf.labels == i]\n",
    "        print(f'Class {i}: ' + str(X_cur.shape[0]) + ' оbjects')\n",
    "        print(X.columns[X[clf.labels == i].sum(axis=0).argsort()[::-1][:fnum]].values)\n",
    "        print(50 * '-')"
   ]
  },
  {
   "cell_type": "code",
   "execution_count": 69,
   "metadata": {},
   "outputs": [
    {
     "data": {
      "text/plain": [
       "<__main__.MyKmeans at 0x1a1c4e5240>"
      ]
     },
     "execution_count": 69,
     "metadata": {},
     "output_type": "execute_result"
    }
   ],
   "source": [
    "## MyKMeans\n",
    "my_clf = MyKmeans(k=N)\n",
    "my_clf.fit(df_sns)"
   ]
  },
  {
   "cell_type": "code",
   "execution_count": 70,
   "metadata": {
    "scrolled": false
   },
   "outputs": [
    {
     "name": "stdout",
     "output_type": "stream",
     "text": [
      "Class 0: 758 оbjects\n",
      "['marching' 'band' 'music' 'rock' 'god' 'football' 'swimming']\n",
      "--------------------------------------------------\n",
      "Class 1: 991 оbjects\n",
      "['softball' 'volleyball' 'basketball' 'sports' 'football' 'shopping'\n",
      " 'church']\n",
      "--------------------------------------------------\n",
      "Class 2: 834 оbjects\n",
      "['hollister' 'abercrombie' 'shopping' 'mall' 'clothes' 'hair'\n",
      " 'cheerleading']\n",
      "--------------------------------------------------\n",
      "Class 3: 19763 оbjects\n",
      "['blonde' 'tennis' 'jesus' 'death' 'soccer' 'drunk' 'sports']\n",
      "--------------------------------------------------\n",
      "Class 4: 900 оbjects\n",
      "['kissed' 'drugs' 'hair' 'sex' 'drunk' 'die' 'clothes']\n",
      "--------------------------------------------------\n",
      "Class 5: 521 оbjects\n",
      "['bible' 'jesus' 'god' 'church' 'death' 'die' 'music']\n",
      "--------------------------------------------------\n",
      "Class 6: 4533 оbjects\n",
      "['shopping' 'mall' 'cute' 'dance' 'dress' 'clothes' 'swimming']\n",
      "--------------------------------------------------\n",
      "Class 7: 1162 оbjects\n",
      "['hot' 'sexy' 'cute' 'dance' 'mall' 'hair' 'clothes']\n",
      "--------------------------------------------------\n",
      "Class 8: 538 оbjects\n",
      "['baseball' 'football' 'basketball' 'sports' 'rock' 'cheerleading'\n",
      " 'soccer']\n",
      "--------------------------------------------------\n"
     ]
    }
   ],
   "source": [
    "info_features(my_clf, df_sns)"
   ]
  },
  {
   "cell_type": "code",
   "execution_count": 71,
   "metadata": {},
   "outputs": [
    {
     "name": "stderr",
     "output_type": "stream",
     "text": [
      "/anaconda3/lib/python3.6/site-packages/ipykernel_launcher.py:50: RuntimeWarning: invalid value encountered in sqrt\n",
      "/anaconda3/lib/python3.6/site-packages/ipykernel_launcher.py:44: RuntimeWarning: invalid value encountered in less\n"
     ]
    },
    {
     "data": {
      "text/plain": [
       "<__main__.MyKmeans at 0x1a19558710>"
      ]
     },
     "execution_count": 71,
     "metadata": {},
     "output_type": "execute_result"
    }
   ],
   "source": [
    "## MyKMeans++\n",
    "my_clf_kpp = MyKmeans(k=N, init='k-means++')\n",
    "my_clf_kpp.fit(df_sns)"
   ]
  },
  {
   "cell_type": "code",
   "execution_count": 72,
   "metadata": {},
   "outputs": [
    {
     "name": "stdout",
     "output_type": "stream",
     "text": [
      "Class 0: 919 оbjects\n",
      "['hot' 'sexy' 'cute' 'mall' 'dance' 'hair' 'clothes']\n",
      "--------------------------------------------------\n",
      "Class 1: 2329 оbjects\n",
      "['basketball' 'football' 'baseball' 'softball' 'sports' 'volleyball'\n",
      " 'soccer']\n",
      "--------------------------------------------------\n",
      "Class 2: 826 оbjects\n",
      "['hollister' 'abercrombie' 'shopping' 'mall' 'clothes' 'hair'\n",
      " 'cheerleading']\n",
      "--------------------------------------------------\n",
      "Class 3: 369 оbjects\n",
      "['drunk' 'sex' 'blonde' 'hair' 'death' 'sexy' 'dance']\n",
      "--------------------------------------------------\n",
      "Class 4: 3770 оbjects\n",
      "['shopping' 'dress' 'dance' 'cute' 'mall' 'band' 'marching']\n",
      "--------------------------------------------------\n",
      "Class 5: 1873 оbjects\n",
      "['death' 'die' 'god' 'music' 'rock' 'jesus' 'tennis']\n",
      "--------------------------------------------------\n",
      "Class 6: 372 оbjects\n",
      "['bible' 'jesus' 'god' 'church' 'music' 'death' 'die']\n",
      "--------------------------------------------------\n",
      "Class 7: 18743 оbjects\n",
      "['blonde' 'tennis' 'soccer' 'jesus' 'bible' 'marching' 'sex']\n",
      "--------------------------------------------------\n",
      "Class 8: 799 оbjects\n",
      "['kissed' 'drugs' 'hair' 'sex' 'die' 'clothes' 'music']\n",
      "--------------------------------------------------\n"
     ]
    }
   ],
   "source": [
    "info_features(my_clf_kpp, df_sns)"
   ]
  },
  {
   "cell_type": "code",
   "execution_count": 73,
   "metadata": {},
   "outputs": [
    {
     "data": {
      "text/plain": [
       "<__main__.MiniBatchKMeans at 0x1a1957d5f8>"
      ]
     },
     "execution_count": 73,
     "metadata": {},
     "output_type": "execute_result"
    }
   ],
   "source": [
    "## MyKMeans с MiniBatchMyKMeans\n",
    "my_clf_mb = MiniBatchKMeans(k=N, batch_size='32')\n",
    "my_clf_mb.fit(df_sns)"
   ]
  },
  {
   "cell_type": "code",
   "execution_count": 74,
   "metadata": {
    "scrolled": false
   },
   "outputs": [
    {
     "name": "stdout",
     "output_type": "stream",
     "text": [
      "Class 0: 2605 оbjects\n",
      "['football' 'basketball' 'soccer' 'sports' 'softball' 'tennis' 'church']\n",
      "--------------------------------------------------\n",
      "Class 1: 715 оbjects\n",
      "['volleyball' 'softball' 'basketball' 'shopping' 'sports' 'football'\n",
      " 'swimming']\n",
      "--------------------------------------------------\n",
      "Class 2: 508 оbjects\n",
      "['baseball' 'football' 'basketball' 'rock' 'sports' 'cheerleading'\n",
      " 'soccer']\n",
      "--------------------------------------------------\n",
      "Class 3: 469 оbjects\n",
      "['bible' 'jesus' 'god' 'church' 'death' 'die' 'music']\n",
      "--------------------------------------------------\n",
      "Class 4: 19020 оbjects\n",
      "['blonde' 'jesus' 'death' 'bible' 'tennis' 'drunk' 'die']\n",
      "--------------------------------------------------\n",
      "Class 5: 754 оbjects\n",
      "['marching' 'band' 'music' 'rock' 'swimming' 'football' 'god']\n",
      "--------------------------------------------------\n",
      "Class 6: 846 оbjects\n",
      "['hollister' 'abercrombie' 'shopping' 'mall' 'clothes' 'hair'\n",
      " 'cheerleading']\n",
      "--------------------------------------------------\n",
      "Class 7: 925 оbjects\n",
      "['kissed' 'drugs' 'hair' 'sex' 'drunk' 'die' 'rock']\n",
      "--------------------------------------------------\n",
      "Class 8: 4158 оbjects\n",
      "['shopping' 'cute' 'mall' 'dance' 'dress' 'hot' 'clothes']\n",
      "--------------------------------------------------\n"
     ]
    }
   ],
   "source": [
    "info_features(my_clf_mb, df_sns)"
   ]
  },
  {
   "cell_type": "code",
   "execution_count": 75,
   "metadata": {},
   "outputs": [
    {
     "name": "stderr",
     "output_type": "stream",
     "text": [
      "/anaconda3/lib/python3.6/site-packages/ipykernel_launcher.py:50: RuntimeWarning: invalid value encountered in sqrt\n",
      "/anaconda3/lib/python3.6/site-packages/ipykernel_launcher.py:44: RuntimeWarning: invalid value encountered in less\n"
     ]
    },
    {
     "data": {
      "text/plain": [
       "<__main__.MiniBatchKMeans at 0x1a195680f0>"
      ]
     },
     "execution_count": 75,
     "metadata": {},
     "output_type": "execute_result"
    }
   ],
   "source": [
    "## MyKMeans++ с MiniBatchMyKMeans\n",
    "my_clf__kpp_mb = MiniBatchKMeans(k=N, batch_size='32',  init='k-means++')\n",
    "my_clf__kpp_mb.fit(df_sns)"
   ]
  },
  {
   "cell_type": "code",
   "execution_count": 76,
   "metadata": {},
   "outputs": [
    {
     "name": "stdout",
     "output_type": "stream",
     "text": [
      "Class 0: 421 оbjects\n",
      "['bible' 'jesus' 'god' 'church' 'death' 'music' 'die']\n",
      "--------------------------------------------------\n",
      "Class 1: 898 оbjects\n",
      "['softball' 'volleyball' 'basketball' 'sports' 'shopping' 'football'\n",
      " 'church']\n",
      "--------------------------------------------------\n",
      "Class 2: 4555 оbjects\n",
      "['shopping' 'cute' 'dance' 'mall' 'clothes' 'hot' 'band']\n",
      "--------------------------------------------------\n",
      "Class 3: 889 оbjects\n",
      "['kissed' 'drugs' 'hair' 'sex' 'die' 'drunk' 'rock']\n",
      "--------------------------------------------------\n",
      "Class 4: 19091 оbjects\n",
      "['blonde' 'jesus' 'bible' 'death' 'drunk' 'marching' 'sex']\n",
      "--------------------------------------------------\n",
      "Class 5: 2273 оbjects\n",
      "['soccer' 'football' 'basketball' 'sports' 'tennis' 'swimming' 'church']\n",
      "--------------------------------------------------\n",
      "Class 6: 500 оbjects\n",
      "['baseball' 'football' 'basketball' 'rock' 'sports' 'cheerleading'\n",
      " 'soccer']\n",
      "--------------------------------------------------\n",
      "Class 7: 542 оbjects\n",
      "['dress' 'shopping' 'cute' 'dance' 'mall' 'hair' 'clothes']\n",
      "--------------------------------------------------\n",
      "Class 8: 831 оbjects\n",
      "['hollister' 'abercrombie' 'shopping' 'mall' 'clothes' 'hair' 'hot']\n",
      "--------------------------------------------------\n"
     ]
    }
   ],
   "source": [
    "info_features(my_clf__kpp_mb, df_sns)"
   ]
  },
  {
   "cell_type": "code",
   "execution_count": 77,
   "metadata": {},
   "outputs": [
    {
     "data": {
      "text/plain": [
       "'Хы'"
      ]
     },
     "execution_count": 77,
     "metadata": {},
     "output_type": "execute_result"
    }
   ],
   "source": [
    "## Вывод\n",
    "\"\"\"\n",
    "1. Самый большой кластер содержит около 19 - 20 тыс объектов:\n",
    "    Главные признаки 'blonde', 'tennis' 'jesus'\n",
    "    Вывод: Сложно интерпретировать\n",
    "    \n",
    "2. Второй по величине содержит около 4 тыс объектов:\n",
    "    Главные признаки 'shopping', 'mall', 'cute', 'dance', etc\n",
    "    Вывод: Легко видна взаимосвязь: видимо к кластеру относятся\n",
    "           Люди (девушки, но не точно), Который следят за своим стилем, \n",
    "           Любят ходить по магазинам и ставаются выглядеть привлекательно\n",
    "    \n",
    "3. Третий по величине содержит около 2 тыс объектов:\n",
    "    Главные признаки 'football', 'baseball', 'soccer', 'basketball', etc\n",
    "    Вывод: Опять же достаточно очевидно: спортсмены и увлекающиеся спортом\n",
    "    \n",
    "-- Дальше не по величине, в остальных по разному от 500 до 1000 объектов -- \n",
    "\n",
    "4. Четвертый* кластер  (*Рандомная нумерация):\n",
    "    Главные признаки 'marching', 'band', 'music', 'rock', etc\n",
    "    Вывод: Вероятно музыканты, участники местных рок-групп и их компании\n",
    "    \n",
    "5. Пятый кластер:\n",
    "    Главные признаки 'kissed', 'sex', 'drugs', 'hair', etc\n",
    "    Вывод: Тот самый, самый интересный класс общества, с которыми никогда не\n",
    "        бывает скучно. Любители литературы и искусства и философии.\n",
    "        Необычные, умные и прилежные ученики\n",
    "        \n",
    "6. Шестой кластер:\n",
    "    Главные признаки 'bible', 'jesus', 'god', 'church', etc\n",
    "    Вывод: Верующие дети из каких-нибудь воскреных школ или верующих семей\n",
    "        В России не встречал, но в Штатах, как показывают в фильмах, собираются\n",
    "        в компании и пропогандируют правильное поведение и любовь в ближним\n",
    "        \n",
    "7. Седьмой кластер:\n",
    "    Главные признаки 'hollister', 'abercrombie', 'mall', 'shopping', etc\n",
    "    Вывод: Что-то очень похожее на второй класс\n",
    "\n",
    "8 & 9. Оставшиеся два кластера сложно харатеризовать, потому что они каждый раз разные\n",
    "    Часто еще выделяются классы спорсменов по типу второго и\n",
    "    Что-то типа ['hot' 'sexy' 'cute'], тоже часто появляется\n",
    "------------------------------------------------------------------------------------\n",
    "\n",
    "Особо заметной разницы между обычным k-means и k-means++ я не увидел, \n",
    "разве что второй чуть стабилнее не застревает в стациоарных точках\n",
    "отличных от минимума, но это заметно только на игрушеных данных,\n",
    "на настоящих же, я все равно не могу на глаз определить правильно\n",
    "все склассифицировалось или нет\n",
    "\n",
    "\"\"\"\n",
    "\n",
    "'Хы'"
   ]
  }
 ],
 "metadata": {
  "anaconda-cloud": {},
  "kernelspec": {
   "display_name": "Python 3",
   "language": "python",
   "name": "python3"
  },
  "language_info": {
   "codemirror_mode": {
    "name": "ipython",
    "version": 3
   },
   "file_extension": ".py",
   "mimetype": "text/x-python",
   "name": "python",
   "nbconvert_exporter": "python",
   "pygments_lexer": "ipython3",
   "version": "3.6.5"
  },
  "nav_menu": {},
  "toc": {
   "navigate_menu": true,
   "number_sections": false,
   "sideBar": true,
   "threshold": 6,
   "toc_cell": false,
   "toc_section_display": "block",
   "toc_window_display": true
  }
 },
 "nbformat": 4,
 "nbformat_minor": 2
}
