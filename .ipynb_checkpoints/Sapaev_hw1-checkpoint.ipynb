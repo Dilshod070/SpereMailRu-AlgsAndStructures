{
 "cells": [
  {
   "cell_type": "markdown",
   "metadata": {},
   "source": [
    "**Общая информация**\n",
    "\n",
    "**Срок сдачи:** 18 октября 2017, 06:00 <br\\>\n",
    "**Штраф за опоздание:** -2 балла после 06:00 18 октября, -4 балла после 06:00 25 октября, -6 баллов после 06:00 1 ноября\n",
    "\n",
    "При отправлении ДЗ указывайте фамилию в названии файла\n",
    "Присылать ДЗ необходимо в виде ссылки на свой github репозиторий в slack @alkhamush\n",
    "\n",
    "Необходимо в slack создать таск в приватный чат:\n",
    "/todo Фамилия Имя ссылка на гитхаб @alkhamush\n",
    "Пример:\n",
    "/todo Ксения Стройкова https://github.com/stroykova/spheremailru/stroykova_hw1.ipynb @alkhamush\n",
    "Дополнительно нужно просто скинуть ссылку в slack в личный чат\n",
    "\n",
    "Используйте данный Ipython Notebook при оформлении домашнего задания."
   ]
  },
  {
   "cell_type": "markdown",
   "metadata": {},
   "source": [
    "###### Задание 1 (2 баллов)\n",
    "Реализовать KNN в классе MyKNeighborsClassifier (обязательное условие: точность не ниже sklearn реализации)\n",
    "Разберитесь самостоятельно, какая мера расстояния используется в KNeighborsClassifier дефолтно и реализуйте свой алгоритм именно с этой мерой. Самостоятельно разберитесь, как считается score из KNeighborsClassifier и реализуйте аналог в своём классе. Score не должен уступать значению KNN из sklearn\n",
    "\n",
    "###### Задание 2 (2 балла)\n",
    "Добиться скорости работы на fit,  predict и predict_proba сравнимой со sklearn для iris и mnist\n",
    "Для этого используем numpy\n",
    "\n",
    "###### Задание 3 (2 балла)\n",
    "Для iris найдите такой параметр n_neighbors, при котором выдаётся наилучший score. Нарисуйте график зависимости score от n_neighbors\n",
    "\n",
    "###### Задание 4 (3 балла)\n",
    "Добавить algorithm='kd_tree' в реализацию KNN (использовать KDTree из sklearn.neighbors). Значение n_neighbors нужно взять из задания 3. Добиться скорости работы на fit,  predict и predict_proba сравнимой со sklearn для iris и mnist\n",
    "Для этого используем numpy. Score не должен уступать значению KNN из sklearn\n",
    "\n",
    "###### Задание 5 (1 балла)\n",
    "Описать для чего нужны следующие библиотеки/классы/функции (список будет ниже)\n",
    "\n",
    "**Штрафные баллы:**\n",
    "\n",
    "1. Невыполнение PEP8 -1 балл\n",
    "2. Отсутствие фамилии в имени скрипта (скрипт должен называться по аналогии со stroykova_hw1.ipynb) -1 балл\n",
    "3. Все строчки должны быть выполнены. Нужно, чтобы output команды можно было увидеть уже в git'е. В противном случае -1 балл\n",
    "4. При оформлении ДЗ нужно пользоваться данным файлом в качестве шаблона. Не нужно удалять и видоизменять структуру кода и текст. В противном случае -1 балл\n"
   ]
  },
  {
   "cell_type": "code",
   "execution_count": 1,
   "metadata": {},
   "outputs": [],
   "source": [
    "import numpy as np\n",
    "import matplotlib.pyplot as plt\n",
    "\n",
    "import seaborn as sns\n",
    "from sklearn import datasets\n",
    "from sklearn.base import ClassifierMixin\n",
    "from sklearn.datasets import fetch_mldata\n",
    "from sklearn.neighbors.base import NeighborsBase, KNeighborsMixin, SupervisedIntegerMixin \n",
    "from sklearn.model_selection import train_test_split\n",
    "from sklearn.neighbors import KNeighborsClassifier, KDTree\n",
    "# %load_ext pycodestyle_magic"
   ]
  },
  {
   "cell_type": "code",
   "execution_count": 2,
   "metadata": {},
   "outputs": [],
   "source": [
    "# %%pycodestyle\n",
    "\n",
    "class MyKNeighborsClassifier(NeighborsBase, KNeighborsMixin, SupervisedIntegerMixin, ClassifierMixin):\n",
    "    \n",
    "    def __init__(self, n_neighbors, algorithm='brute'):\n",
    "        self.n_neighbors = n_neighbors\n",
    "        self.algorithm = algorithm\n",
    "    \n",
    "    def fit(self, X, y):\n",
    "        self.X = np.array(X).astype(float)\n",
    "        self.trains = X.shape[0]\n",
    "        self.features = X.shape[1]\n",
    "        self.X_square = np.sum(self.X ** 2, axis=1).reshape(-1, 1)\n",
    "        if self.algorithm == 'kd_tree':\n",
    "            self.tree = KDTree(self.X)\n",
    "        \n",
    "        self.y = np.array(y).astype('int64')\n",
    "        self.classes = np.unique(y)\n",
    "        self.n_classes = self.classes.shape[0]\n",
    "        return self\n",
    "\n",
    "    def predict(self, X):\n",
    "        return np.apply_along_axis(lambda x: np.bincount(x).argmax(), 1, self.prob_brute(X))\n",
    "\n",
    "    def predict_proba(self, X):\n",
    "        lambda_probs = lambda x: np.bincount(x, minlength=self.n_classes) / self.n_neighbors\n",
    "        if self.algorithm == 'brute':\n",
    "            return np.apply_along_axis(lambda_probs, 1, self.prob_brute(X))\n",
    "        elif self.algorithm == 'kd_tree':\n",
    "            return np.apply_along_axis(lambda_probs, 1, self.predict_kdtree(X))\n",
    "        \n",
    "    def predict_kdtree(self, X):\n",
    "        _, top = self.tree.query(X, k=self.n_neighbors)\n",
    "        return self.y[top].astype('int64')\n",
    "    \n",
    "    def prob_brute(self, X):\n",
    "        X = X.astype(float)\n",
    "        X_square = np.sum(X ** 2, axis=1).reshape(1, -1)\n",
    "        dist = np.sqrt(self.X_square - 2*np.matmul(self.X, X.T) + X_square)\n",
    "        top = np.argpartition(dist, self.n_neighbors - 1, axis=0)[:self.n_neighbors:].T\n",
    "        return self.y[top].astype('int64')\n",
    "    \n",
    "    def score(self, X, y):\n",
    "        return np.average(y == self.predict(X))"
   ]
  },
  {
   "cell_type": "markdown",
   "metadata": {},
   "source": [
    "**IRIS**"
   ]
  },
  {
   "cell_type": "code",
   "execution_count": 3,
   "metadata": {},
   "outputs": [],
   "source": [
    "iris = datasets.load_iris()"
   ]
  },
  {
   "cell_type": "code",
   "execution_count": 4,
   "metadata": {},
   "outputs": [],
   "source": [
    "X_train, X_test, y_train, y_test = train_test_split(iris.data, iris.target, test_size=0.1, stratify=iris.target)"
   ]
  },
  {
   "cell_type": "code",
   "execution_count": 5,
   "metadata": {},
   "outputs": [],
   "source": [
    "clf = KNeighborsClassifier(n_neighbors=2)\n",
    "my_clf = MyKNeighborsClassifier(n_neighbors=2)"
   ]
  },
  {
   "cell_type": "code",
   "execution_count": 6,
   "metadata": {
    "scrolled": true
   },
   "outputs": [
    {
     "name": "stdout",
     "output_type": "stream",
     "text": [
      "CPU times: user 1.95 ms, sys: 365 µs, total: 2.31 ms\n",
      "Wall time: 2.17 ms\n"
     ]
    },
    {
     "data": {
      "text/plain": [
       "KNeighborsClassifier(algorithm='auto', leaf_size=30, metric='minkowski',\n",
       "           metric_params=None, n_jobs=1, n_neighbors=2, p=2,\n",
       "           weights='uniform')"
      ]
     },
     "execution_count": 6,
     "metadata": {},
     "output_type": "execute_result"
    }
   ],
   "source": [
    "%time clf.fit(X_train, y_train)"
   ]
  },
  {
   "cell_type": "code",
   "execution_count": 7,
   "metadata": {},
   "outputs": [
    {
     "name": "stdout",
     "output_type": "stream",
     "text": [
      "CPU times: user 779 µs, sys: 608 µs, total: 1.39 ms\n",
      "Wall time: 847 µs\n"
     ]
    },
    {
     "data": {
      "text/plain": [
       "MyKNeighborsClassifier(algorithm='brute', n_neighbors=2)"
      ]
     },
     "execution_count": 7,
     "metadata": {},
     "output_type": "execute_result"
    }
   ],
   "source": [
    "%time my_clf.fit(X_train, y_train)"
   ]
  },
  {
   "cell_type": "code",
   "execution_count": 8,
   "metadata": {
    "scrolled": true
   },
   "outputs": [
    {
     "name": "stdout",
     "output_type": "stream",
     "text": [
      "CPU times: user 1.25 ms, sys: 498 µs, total: 1.75 ms\n",
      "Wall time: 1.37 ms\n"
     ]
    },
    {
     "data": {
      "text/plain": [
       "array([1, 2, 2, 1, 2, 0, 2, 1, 2, 1, 0, 2, 0, 0, 0])"
      ]
     },
     "execution_count": 8,
     "metadata": {},
     "output_type": "execute_result"
    }
   ],
   "source": [
    "%time clf.predict(X_test)"
   ]
  },
  {
   "cell_type": "code",
   "execution_count": 9,
   "metadata": {
    "scrolled": true
   },
   "outputs": [
    {
     "name": "stdout",
     "output_type": "stream",
     "text": [
      "CPU times: user 126 ms, sys: 13.5 ms, total: 139 ms\n",
      "Wall time: 147 ms\n"
     ]
    },
    {
     "data": {
      "text/plain": [
       "array([1, 2, 2, 1, 2, 0, 2, 1, 2, 1, 0, 2, 0, 0, 0])"
      ]
     },
     "execution_count": 9,
     "metadata": {},
     "output_type": "execute_result"
    }
   ],
   "source": [
    "%time my_clf.predict(X_test)"
   ]
  },
  {
   "cell_type": "code",
   "execution_count": 10,
   "metadata": {},
   "outputs": [
    {
     "name": "stdout",
     "output_type": "stream",
     "text": [
      "CPU times: user 656 µs, sys: 153 µs, total: 809 µs\n",
      "Wall time: 670 µs\n"
     ]
    },
    {
     "data": {
      "text/plain": [
       "array([[0., 1., 0.],\n",
       "       [0., 0., 1.],\n",
       "       [0., 0., 1.],\n",
       "       [0., 1., 0.],\n",
       "       [0., 0., 1.],\n",
       "       [1., 0., 0.],\n",
       "       [0., 0., 1.],\n",
       "       [0., 1., 0.],\n",
       "       [0., 0., 1.],\n",
       "       [0., 1., 0.],\n",
       "       [1., 0., 0.],\n",
       "       [0., 0., 1.],\n",
       "       [1., 0., 0.],\n",
       "       [1., 0., 0.],\n",
       "       [1., 0., 0.]])"
      ]
     },
     "execution_count": 10,
     "metadata": {},
     "output_type": "execute_result"
    }
   ],
   "source": [
    "%time clf.predict_proba(X_test)"
   ]
  },
  {
   "cell_type": "code",
   "execution_count": 11,
   "metadata": {},
   "outputs": [
    {
     "name": "stdout",
     "output_type": "stream",
     "text": [
      "CPU times: user 854 µs, sys: 434 µs, total: 1.29 ms\n",
      "Wall time: 892 µs\n"
     ]
    },
    {
     "data": {
      "text/plain": [
       "array([[0., 1., 0.],\n",
       "       [0., 0., 1.],\n",
       "       [0., 0., 1.],\n",
       "       [0., 1., 0.],\n",
       "       [0., 0., 1.],\n",
       "       [1., 0., 0.],\n",
       "       [0., 0., 1.],\n",
       "       [0., 1., 0.],\n",
       "       [0., 0., 1.],\n",
       "       [0., 1., 0.],\n",
       "       [1., 0., 0.],\n",
       "       [0., 0., 1.],\n",
       "       [1., 0., 0.],\n",
       "       [1., 0., 0.],\n",
       "       [1., 0., 0.]])"
      ]
     },
     "execution_count": 11,
     "metadata": {},
     "output_type": "execute_result"
    }
   ],
   "source": [
    "%time my_clf.predict_proba(X_test)"
   ]
  },
  {
   "cell_type": "code",
   "execution_count": 12,
   "metadata": {},
   "outputs": [
    {
     "data": {
      "text/plain": [
       "0.9333333333333333"
      ]
     },
     "execution_count": 12,
     "metadata": {},
     "output_type": "execute_result"
    }
   ],
   "source": [
    "clf.score(X_test, y_test)"
   ]
  },
  {
   "cell_type": "code",
   "execution_count": 13,
   "metadata": {},
   "outputs": [
    {
     "data": {
      "text/plain": [
       "0.9333333333333333"
      ]
     },
     "execution_count": 13,
     "metadata": {},
     "output_type": "execute_result"
    }
   ],
   "source": [
    "my_clf.score(X_test, y_test)"
   ]
  },
  {
   "cell_type": "markdown",
   "metadata": {},
   "source": [
    "Задание 3"
   ]
  },
  {
   "cell_type": "code",
   "execution_count": 14,
   "metadata": {},
   "outputs": [
    {
     "name": "stderr",
     "output_type": "stream",
     "text": [
      "/anaconda3/lib/python3.6/site-packages/ipykernel_launcher.py:39: RuntimeWarning: invalid value encountered in sqrt\n"
     ]
    },
    {
     "name": "stdout",
     "output_type": "stream",
     "text": [
      "Best n_neighbors is 10 with score = 0.9754666666666667\n"
     ]
    },
    {
     "data": {
      "image/png": "[encoded data removed]",
      "text/plain": [
       "<Figure size 432x288 with 1 Axes>"
      ]
     },
     "metadata": {},
     "output_type": "display_data"
    }
   ],
   "source": [
    "#MAX_N = len(y_train)\n",
    "MAX_N = 50\n",
    "TESTS_N = 500\n",
    "\n",
    "best = (0, 0)\n",
    "res = []\n",
    "for i in range(1, MAX_N + 1):\n",
    "    test_res = []\n",
    "    for test in range(TESTS_N):\n",
    "        X_train, X_test, y_train, y_test = train_test_split(iris.data, iris.target, \n",
    "                                                            test_size=0.1, stratify=iris.target)\n",
    "        \n",
    "        my_clf = MyKNeighborsClassifier(n_neighbors=i)\n",
    "        my_clf.fit(X_train, y_train)\n",
    "        test_res.append(my_clf.score(X_test, y_test))\n",
    "    res.append(np.mean(test_res))\n",
    "best = (max(res), np.argmax(res) + 1)\n",
    "print(f'Best n_neighbors is {best[1]} with score = {best[0]}')\n",
    "\n",
    "plt.plot(list(range(1, MAX_N + 1)), res)\n",
    "plt.show()"
   ]
  },
  {
   "cell_type": "markdown",
   "metadata": {},
   "source": [
    "**MNIST**"
   ]
  },
  {
   "cell_type": "code",
   "execution_count": 15,
   "metadata": {},
   "outputs": [],
   "source": [
    "mnist = fetch_mldata('MNIST original')"
   ]
  },
  {
   "cell_type": "code",
   "execution_count": 16,
   "metadata": {},
   "outputs": [],
   "source": [
    "X_train, X_test, y_train, y_test = train_test_split(mnist.data, mnist.target, test_size=0.01, stratify=mnist.target)"
   ]
  },
  {
   "cell_type": "code",
   "execution_count": 17,
   "metadata": {},
   "outputs": [],
   "source": [
    "clf = KNeighborsClassifier(n_neighbors=2)\n",
    "my_clf = MyKNeighborsClassifier(n_neighbors=2)"
   ]
  },
  {
   "cell_type": "code",
   "execution_count": 18,
   "metadata": {},
   "outputs": [
    {
     "name": "stdout",
     "output_type": "stream",
     "text": [
      "CPU times: user 38.9 s, sys: 558 ms, total: 39.5 s\n",
      "Wall time: 39.8 s\n"
     ]
    },
    {
     "data": {
      "text/plain": [
       "KNeighborsClassifier(algorithm='auto', leaf_size=30, metric='minkowski',\n",
       "           metric_params=None, n_jobs=1, n_neighbors=2, p=2,\n",
       "           weights='uniform')"
      ]
     },
     "execution_count": 18,
     "metadata": {},
     "output_type": "execute_result"
    }
   ],
   "source": [
    "%time clf.fit(X_train, y_train)"
   ]
  },
  {
   "cell_type": "code",
   "execution_count": 19,
   "metadata": {},
   "outputs": [
    {
     "name": "stdout",
     "output_type": "stream",
     "text": [
      "CPU times: user 689 ms, sys: 568 ms, total: 1.26 s\n",
      "Wall time: 990 ms\n"
     ]
    },
    {
     "data": {
      "text/plain": [
       "MyKNeighborsClassifier(algorithm='brute', n_neighbors=2)"
      ]
     },
     "execution_count": 19,
     "metadata": {},
     "output_type": "execute_result"
    }
   ],
   "source": [
    "%time my_clf.fit(X_train, y_train)"
   ]
  },
  {
   "cell_type": "code",
   "execution_count": 20,
   "metadata": {},
   "outputs": [
    {
     "name": "stdout",
     "output_type": "stream",
     "text": [
      "CPU times: user 59.1 s, sys: 526 ms, total: 59.6 s\n",
      "Wall time: 1min\n"
     ]
    },
    {
     "data": {
      "text/plain": [
       "array([3., 8., 2., 6., 2., 6., 5., 4., 5., 9., 9., 2., 0., 3., 0., 4., 9.,\n",
       "       6., 6., 6., 8., 3., 4., 7., 3., 4., 9., 4., 2., 2., 7., 0., 5., 3.,\n",
       "       3., 6., 9., 6., 9., 8., 0., 5., 2., 1., 6., 5., 1., 9., 1., 2., 1.,\n",
       "       1., 2., 6., 7., 7., 6., 6., 5., 7., 5., 6., 7., 3., 9., 8., 5., 1.,\n",
       "       8., 5., 6., 3., 3., 4., 7., 7., 1., 5., 6., 0., 9., 1., 3., 2., 3.,\n",
       "       4., 6., 2., 2., 4., 1., 1., 8., 7., 4., 0., 6., 1., 1., 4., 2., 1.,\n",
       "       6., 2., 5., 9., 2., 7., 2., 0., 8., 0., 8., 2., 6., 8., 6., 7., 2.,\n",
       "       2., 4., 8., 2., 5., 0., 3., 6., 2., 3., 3., 3., 9., 4., 3., 9., 7.,\n",
       "       2., 4., 0., 9., 4., 1., 5., 8., 9., 4., 1., 1., 4., 6., 5., 6., 8.,\n",
       "       2., 7., 4., 6., 7., 2., 6., 5., 1., 4., 3., 8., 4., 2., 7., 6., 2.,\n",
       "       3., 2., 5., 3., 8., 6., 0., 4., 6., 0., 9., 7., 5., 9., 1., 9., 1.,\n",
       "       5., 2., 0., 1., 0., 1., 6., 9., 2., 0., 0., 4., 7., 5., 6., 5., 7.,\n",
       "       1., 0., 2., 7., 2., 5., 7., 9., 7., 4., 2., 0., 1., 3., 5., 4., 0.,\n",
       "       3., 5., 7., 6., 5., 1., 5., 2., 8., 1., 4., 5., 3., 8., 8., 0., 2.,\n",
       "       7., 9., 6., 3., 6., 4., 6., 9., 7., 5., 1., 0., 7., 3., 5., 3., 9.,\n",
       "       2., 6., 4., 4., 1., 7., 6., 6., 1., 3., 2., 2., 7., 1., 3., 8., 0.,\n",
       "       7., 0., 7., 7., 8., 4., 4., 0., 8., 9., 1., 0., 7., 8., 1., 2., 8.,\n",
       "       1., 8., 3., 0., 8., 1., 6., 3., 7., 4., 8., 4., 4., 9., 2., 2., 3.,\n",
       "       1., 7., 4., 1., 0., 5., 9., 4., 7., 3., 1., 6., 8., 8., 1., 6., 9.,\n",
       "       6., 7., 3., 6., 0., 1., 8., 3., 0., 8., 9., 0., 3., 9., 0., 5., 1.,\n",
       "       5., 1., 1., 7., 1., 3., 1., 7., 0., 1., 4., 6., 3., 4., 9., 7., 1.,\n",
       "       9., 3., 6., 1., 9., 3., 0., 6., 0., 3., 1., 8., 3., 0., 4., 3., 6.,\n",
       "       4., 3., 8., 8., 2., 7., 3., 9., 6., 6., 2., 5., 3., 6., 0., 6., 9.,\n",
       "       1., 2., 2., 6., 7., 2., 3., 0., 2., 6., 0., 4., 4., 5., 0., 2., 5.,\n",
       "       7., 2., 8., 4., 9., 9., 7., 5., 9., 3., 3., 6., 3., 0., 5., 8., 9.,\n",
       "       9., 2., 1., 0., 1., 3., 4., 5., 2., 8., 4., 4., 3., 7., 0., 7., 1.,\n",
       "       7., 6., 5., 9., 9., 1., 5., 2., 7., 2., 4., 3., 3., 2., 3., 0., 5.,\n",
       "       4., 5., 8., 5., 1., 9., 1., 1., 4., 0., 2., 4., 6., 7., 0., 2., 4.,\n",
       "       1., 4., 8., 8., 7., 6., 7., 2., 7., 1., 5., 6., 2., 3., 8., 0., 9.,\n",
       "       3., 0., 4., 4., 9., 7., 1., 8., 6., 1., 1., 7., 3., 7., 7., 0., 4.,\n",
       "       6., 0., 6., 7., 3., 9., 4., 8., 3., 7., 0., 8., 9., 3., 1., 9., 2.,\n",
       "       6., 3., 8., 5., 1., 0., 0., 0., 2., 5., 9., 6., 1., 8., 3., 7., 2.,\n",
       "       7., 4., 7., 5., 4., 7., 5., 1., 9., 0., 9., 9., 9., 5., 1., 6., 1.,\n",
       "       0., 9., 9., 9., 3., 8., 8., 8., 4., 9., 9., 0., 3., 1., 2., 4., 8.,\n",
       "       3., 5., 4., 9., 2., 0., 1., 6., 7., 6., 7., 2., 9., 7., 8., 6., 0.,\n",
       "       3., 6., 9., 0., 9., 1., 7., 1., 6., 9., 0., 3., 3., 3., 7., 8., 2.,\n",
       "       0., 5., 4., 5., 9., 4., 2., 3., 8., 9., 7., 1., 7., 8., 1., 1., 3.,\n",
       "       5., 3., 3., 9., 1., 3., 7., 2., 5., 5., 5., 7., 3., 9., 7., 6., 2.,\n",
       "       7., 7., 3., 4., 5., 0., 0., 1., 1., 7., 8., 0., 5., 1., 1., 4., 0.,\n",
       "       6., 6., 7., 3., 5., 0., 1., 8., 0., 4., 4., 2., 0., 9., 8., 1., 1.,\n",
       "       0., 3., 8., 2., 4., 1., 5., 4., 0., 8., 0., 5., 8., 2., 7., 5., 1.,\n",
       "       9., 7., 8.])"
      ]
     },
     "execution_count": 20,
     "metadata": {},
     "output_type": "execute_result"
    }
   ],
   "source": [
    "%time clf.predict(X_test)"
   ]
  },
  {
   "cell_type": "code",
   "execution_count": 21,
   "metadata": {
    "scrolled": true
   },
   "outputs": [
    {
     "name": "stdout",
     "output_type": "stream",
     "text": [
      "CPU times: user 4.45 s, sys: 1.01 s, total: 5.46 s\n",
      "Wall time: 3.98 s\n"
     ]
    },
    {
     "data": {
      "text/plain": [
       "array([3, 8, 2, 6, 2, 6, 5, 4, 5, 9, 9, 2, 0, 3, 0, 4, 9, 6, 6, 6, 8, 3,\n",
       "       4, 7, 3, 4, 9, 4, 2, 2, 7, 0, 5, 3, 3, 6, 9, 6, 9, 8, 0, 5, 2, 1,\n",
       "       6, 5, 1, 9, 1, 2, 1, 1, 2, 6, 7, 7, 6, 6, 5, 7, 5, 6, 7, 3, 9, 8,\n",
       "       5, 1, 8, 5, 6, 3, 3, 4, 7, 7, 1, 5, 6, 0, 9, 1, 3, 2, 3, 4, 6, 2,\n",
       "       2, 4, 1, 1, 8, 7, 4, 0, 6, 1, 1, 4, 2, 1, 6, 2, 5, 9, 2, 7, 2, 0,\n",
       "       8, 0, 8, 2, 6, 8, 6, 7, 2, 2, 4, 8, 2, 5, 0, 3, 6, 2, 3, 3, 3, 9,\n",
       "       4, 3, 9, 7, 2, 4, 0, 9, 4, 1, 5, 8, 9, 4, 1, 1, 4, 6, 5, 6, 8, 2,\n",
       "       7, 4, 6, 7, 2, 6, 5, 1, 4, 3, 8, 4, 2, 7, 6, 2, 3, 2, 5, 3, 8, 6,\n",
       "       0, 4, 6, 0, 9, 7, 5, 9, 1, 9, 1, 5, 2, 0, 1, 0, 1, 6, 9, 2, 0, 0,\n",
       "       4, 7, 5, 6, 5, 7, 1, 0, 2, 7, 2, 5, 7, 9, 7, 4, 2, 0, 1, 3, 5, 4,\n",
       "       0, 3, 5, 7, 6, 5, 1, 5, 2, 8, 1, 4, 5, 3, 8, 8, 0, 2, 7, 9, 6, 3,\n",
       "       6, 4, 6, 9, 7, 5, 1, 0, 7, 3, 5, 3, 9, 2, 6, 4, 4, 1, 7, 6, 6, 1,\n",
       "       3, 2, 2, 7, 1, 3, 8, 0, 7, 0, 7, 7, 8, 4, 4, 0, 8, 9, 1, 0, 7, 8,\n",
       "       1, 2, 8, 1, 8, 3, 0, 8, 1, 6, 3, 7, 4, 8, 4, 4, 9, 2, 2, 3, 1, 7,\n",
       "       4, 1, 0, 5, 9, 4, 7, 3, 1, 6, 8, 8, 1, 6, 9, 6, 7, 3, 6, 0, 1, 8,\n",
       "       3, 0, 8, 9, 0, 3, 9, 0, 5, 1, 5, 1, 1, 7, 1, 3, 1, 7, 0, 1, 4, 6,\n",
       "       3, 4, 9, 7, 1, 9, 3, 6, 1, 9, 3, 0, 6, 0, 3, 1, 8, 3, 0, 4, 3, 6,\n",
       "       4, 3, 8, 8, 2, 7, 3, 9, 6, 6, 2, 5, 3, 6, 0, 6, 9, 1, 2, 2, 6, 7,\n",
       "       2, 3, 0, 2, 6, 0, 4, 4, 5, 0, 2, 5, 7, 2, 8, 4, 9, 9, 7, 5, 9, 3,\n",
       "       3, 6, 3, 0, 5, 8, 9, 9, 2, 1, 0, 1, 3, 4, 5, 2, 8, 4, 4, 3, 7, 0,\n",
       "       7, 1, 7, 6, 5, 9, 9, 1, 5, 2, 7, 2, 4, 3, 3, 2, 3, 0, 5, 4, 5, 8,\n",
       "       5, 1, 9, 1, 1, 4, 0, 2, 4, 6, 7, 0, 2, 4, 1, 4, 8, 8, 7, 6, 7, 2,\n",
       "       7, 1, 5, 6, 2, 3, 8, 0, 9, 3, 0, 4, 4, 9, 7, 1, 8, 6, 1, 1, 7, 3,\n",
       "       7, 7, 0, 4, 6, 0, 6, 7, 3, 9, 4, 8, 3, 7, 0, 8, 9, 3, 1, 9, 2, 6,\n",
       "       3, 8, 5, 1, 0, 0, 0, 2, 5, 9, 6, 1, 8, 3, 7, 2, 7, 4, 7, 5, 4, 7,\n",
       "       5, 1, 9, 0, 9, 9, 9, 5, 1, 6, 1, 0, 9, 9, 9, 3, 8, 8, 8, 4, 9, 9,\n",
       "       0, 3, 1, 2, 4, 8, 3, 5, 4, 9, 2, 0, 1, 6, 7, 6, 7, 2, 9, 7, 8, 6,\n",
       "       0, 3, 6, 9, 0, 9, 1, 7, 1, 6, 9, 0, 3, 3, 3, 7, 8, 2, 0, 5, 4, 5,\n",
       "       9, 4, 2, 3, 8, 9, 7, 1, 7, 8, 1, 1, 3, 5, 3, 3, 9, 1, 3, 7, 2, 5,\n",
       "       5, 5, 7, 3, 9, 7, 6, 2, 7, 7, 3, 4, 5, 0, 0, 1, 1, 7, 8, 0, 5, 1,\n",
       "       1, 4, 0, 6, 6, 7, 3, 5, 0, 1, 8, 0, 4, 4, 2, 0, 9, 8, 1, 1, 0, 3,\n",
       "       8, 2, 4, 1, 5, 4, 0, 8, 0, 5, 8, 2, 7, 5, 1, 9, 7, 8])"
      ]
     },
     "execution_count": 21,
     "metadata": {},
     "output_type": "execute_result"
    }
   ],
   "source": [
    "%time my_clf.predict(X_test)"
   ]
  },
  {
   "cell_type": "code",
   "execution_count": 22,
   "metadata": {},
   "outputs": [
    {
     "name": "stdout",
     "output_type": "stream",
     "text": [
      "CPU times: user 58.9 s, sys: 458 ms, total: 59.3 s\n",
      "Wall time: 59.9 s\n"
     ]
    },
    {
     "data": {
      "text/plain": [
       "array([[0., 0., 0., ..., 0., 0., 0.],\n",
       "       [0., 0., 0., ..., 0., 1., 0.],\n",
       "       [0., 0., 1., ..., 0., 0., 0.],\n",
       "       ...,\n",
       "       [0., 0., 0., ..., 0., 0., 1.],\n",
       "       [0., 0., 0., ..., 1., 0., 0.],\n",
       "       [0., 0., 0., ..., 0., 1., 0.]])"
      ]
     },
     "execution_count": 22,
     "metadata": {},
     "output_type": "execute_result"
    }
   ],
   "source": [
    "%time clf.predict_proba(X_test)"
   ]
  },
  {
   "cell_type": "code",
   "execution_count": 23,
   "metadata": {},
   "outputs": [
    {
     "name": "stdout",
     "output_type": "stream",
     "text": [
      "CPU times: user 4.62 s, sys: 927 ms, total: 5.55 s\n",
      "Wall time: 4.09 s\n"
     ]
    },
    {
     "data": {
      "text/plain": [
       "array([[0., 0., 0., ..., 0., 0., 0.],\n",
       "       [0., 0., 0., ..., 0., 1., 0.],\n",
       "       [0., 0., 1., ..., 0., 0., 0.],\n",
       "       ...,\n",
       "       [0., 0., 0., ..., 0., 0., 1.],\n",
       "       [0., 0., 0., ..., 1., 0., 0.],\n",
       "       [0., 0., 0., ..., 0., 1., 0.]])"
      ]
     },
     "execution_count": 23,
     "metadata": {},
     "output_type": "execute_result"
    }
   ],
   "source": [
    "%time my_clf.predict_proba(X_test)"
   ]
  },
  {
   "cell_type": "code",
   "execution_count": 24,
   "metadata": {},
   "outputs": [
    {
     "data": {
      "text/plain": [
       "0.97"
      ]
     },
     "execution_count": 24,
     "metadata": {},
     "output_type": "execute_result"
    }
   ],
   "source": [
    "clf.score(X_test, y_test)"
   ]
  },
  {
   "cell_type": "code",
   "execution_count": 25,
   "metadata": {},
   "outputs": [
    {
     "data": {
      "text/plain": [
       "0.97"
      ]
     },
     "execution_count": 25,
     "metadata": {},
     "output_type": "execute_result"
    }
   ],
   "source": [
    "my_clf.score(X_test, y_test)"
   ]
  },
  {
   "cell_type": "markdown",
   "metadata": {},
   "source": [
    "Задание 4"
   ]
  },
  {
   "cell_type": "code",
   "execution_count": 26,
   "metadata": {},
   "outputs": [],
   "source": [
    "clf = KNeighborsClassifier(n_neighbors=2, algorithm='kd_tree')\n",
    "my_clf = MyKNeighborsClassifier(n_neighbors=2, algorithm='kd_tree')"
   ]
  },
  {
   "cell_type": "code",
   "execution_count": 27,
   "metadata": {},
   "outputs": [],
   "source": [
    "X_train, X_test, y_train, y_test = train_test_split(mnist.data, mnist.target, test_size=0.01, stratify=mnist.target)"
   ]
  },
  {
   "cell_type": "code",
   "execution_count": 28,
   "metadata": {},
   "outputs": [
    {
     "name": "stdout",
     "output_type": "stream",
     "text": [
      "CPU times: user 41.3 s, sys: 563 ms, total: 41.9 s\n",
      "Wall time: 42.3 s\n"
     ]
    },
    {
     "data": {
      "text/plain": [
       "KNeighborsClassifier(algorithm='kd_tree', leaf_size=30, metric='minkowski',\n",
       "           metric_params=None, n_jobs=1, n_neighbors=2, p=2,\n",
       "           weights='uniform')"
      ]
     },
     "execution_count": 28,
     "metadata": {},
     "output_type": "execute_result"
    }
   ],
   "source": [
    "%time clf.fit(X_train, y_train)"
   ]
  },
  {
   "cell_type": "code",
   "execution_count": 29,
   "metadata": {},
   "outputs": [
    {
     "name": "stdout",
     "output_type": "stream",
     "text": [
      "CPU times: user 44.8 s, sys: 1.08 s, total: 45.9 s\n",
      "Wall time: 46.4 s\n"
     ]
    },
    {
     "data": {
      "text/plain": [
       "MyKNeighborsClassifier(algorithm='kd_tree', n_neighbors=2)"
      ]
     },
     "execution_count": 29,
     "metadata": {},
     "output_type": "execute_result"
    }
   ],
   "source": [
    "%time my_clf.fit(X_train, y_train)"
   ]
  },
  {
   "cell_type": "code",
   "execution_count": 30,
   "metadata": {},
   "outputs": [
    {
     "name": "stdout",
     "output_type": "stream",
     "text": [
      "CPU times: user 1min 1s, sys: 783 ms, total: 1min 2s\n",
      "Wall time: 1min 5s\n"
     ]
    },
    {
     "data": {
      "text/plain": [
       "array([8., 1., 2., 0., 1., 4., 0., 2., 9., 2., 0., 9., 3., 8., 7., 7., 5.,\n",
       "       8., 2., 8., 0., 1., 6., 2., 1., 2., 7., 2., 9., 7., 0., 9., 4., 1.,\n",
       "       0., 1., 5., 7., 4., 9., 5., 5., 3., 7., 7., 9., 8., 3., 0., 0., 0.,\n",
       "       7., 4., 1., 6., 4., 1., 2., 5., 8., 5., 6., 0., 9., 2., 0., 0., 6.,\n",
       "       8., 2., 3., 8., 4., 3., 1., 2., 5., 0., 8., 9., 5., 1., 5., 3., 3.,\n",
       "       2., 6., 3., 2., 2., 0., 0., 8., 0., 9., 9., 9., 5., 4., 3., 8., 6.,\n",
       "       1., 6., 0., 1., 8., 9., 7., 0., 6., 8., 6., 0., 3., 9., 7., 2., 1.,\n",
       "       1., 6., 8., 6., 3., 5., 2., 0., 4., 4., 3., 6., 2., 2., 3., 5., 7.,\n",
       "       1., 8., 7., 4., 5., 8., 4., 2., 9., 9., 8., 2., 3., 7., 9., 7., 5.,\n",
       "       6., 6., 3., 1., 8., 0., 1., 1., 9., 7., 9., 8., 0., 2., 2., 1., 3.,\n",
       "       7., 6., 3., 4., 2., 4., 6., 7., 9., 9., 7., 0., 0., 5., 7., 6., 8.,\n",
       "       0., 7., 1., 7., 3., 1., 4., 6., 8., 4., 3., 3., 7., 8., 3., 4., 3.,\n",
       "       1., 1., 9., 6., 2., 3., 4., 9., 3., 3., 0., 6., 4., 7., 1., 8., 1.,\n",
       "       9., 5., 4., 9., 2., 8., 1., 4., 8., 5., 9., 7., 2., 3., 6., 1., 1.,\n",
       "       3., 0., 8., 3., 6., 4., 4., 9., 9., 1., 0., 3., 2., 5., 5., 6., 1.,\n",
       "       3., 1., 2., 3., 6., 1., 1., 1., 6., 0., 2., 6., 9., 6., 4., 3., 9.,\n",
       "       9., 8., 3., 3., 8., 5., 7., 4., 0., 8., 4., 4., 7., 3., 9., 6., 2.,\n",
       "       2., 3., 2., 9., 1., 6., 7., 6., 6., 7., 9., 8., 9., 2., 2., 5., 6.,\n",
       "       4., 1., 5., 7., 8., 6., 1., 1., 2., 7., 2., 3., 9., 4., 9., 0., 6.,\n",
       "       7., 1., 1., 4., 4., 7., 4., 0., 7., 7., 1., 2., 8., 4., 5., 7., 7.,\n",
       "       0., 0., 7., 2., 8., 1., 0., 2., 8., 5., 1., 5., 6., 1., 8., 5., 1.,\n",
       "       2., 2., 0., 6., 9., 6., 3., 8., 7., 0., 7., 5., 4., 8., 6., 0., 5.,\n",
       "       7., 4., 8., 9., 8., 9., 7., 3., 6., 8., 6., 1., 9., 9., 4., 8., 0.,\n",
       "       9., 1., 7., 2., 5., 6., 5., 1., 2., 0., 7., 5., 8., 6., 2., 8., 5.,\n",
       "       0., 1., 8., 9., 0., 5., 8., 4., 5., 1., 1., 7., 1., 0., 3., 4., 6.,\n",
       "       1., 2., 7., 9., 9., 4., 2., 4., 8., 6., 5., 2., 4., 1., 3., 2., 4.,\n",
       "       2., 9., 7., 5., 1., 0., 5., 6., 4., 7., 8., 0., 3., 4., 1., 2., 9.,\n",
       "       3., 2., 8., 4., 2., 3., 8., 0., 1., 0., 3., 7., 2., 3., 6., 2., 2.,\n",
       "       0., 7., 5., 6., 7., 6., 9., 2., 4., 9., 1., 5., 3., 6., 5., 7., 5.,\n",
       "       1., 4., 2., 5., 1., 7., 0., 8., 2., 0., 4., 2., 2., 4., 6., 8., 9.,\n",
       "       5., 3., 5., 4., 3., 5., 1., 2., 0., 1., 3., 3., 1., 1., 6., 7., 3.,\n",
       "       0., 1., 6., 0., 0., 1., 6., 0., 5., 6., 3., 7., 6., 1., 1., 0., 6.,\n",
       "       9., 5., 1., 4., 4., 7., 0., 3., 0., 5., 3., 2., 4., 3., 4., 2., 6.,\n",
       "       7., 5., 1., 7., 8., 0., 0., 3., 8., 4., 4., 5., 6., 9., 9., 5., 9.,\n",
       "       7., 3., 5., 0., 9., 6., 4., 9., 4., 7., 3., 1., 9., 7., 4., 0., 2.,\n",
       "       3., 4., 7., 7., 3., 3., 0., 7., 6., 1., 0., 3., 2., 7., 6., 2., 6.,\n",
       "       9., 9., 6., 3., 1., 4., 6., 7., 0., 9., 1., 8., 0., 4., 9., 4., 9.,\n",
       "       4., 2., 8., 1., 5., 1., 0., 8., 4., 0., 1., 6., 4., 3., 5., 1., 2.,\n",
       "       7., 7., 3., 6., 0., 6., 8., 6., 7., 5., 5., 0., 4., 3., 0., 8., 5.,\n",
       "       9., 7., 2., 7., 8., 9., 9., 1., 7., 8., 6., 3., 4., 4., 4., 2., 1.,\n",
       "       2., 8., 8., 1., 3., 7., 9., 3., 6., 1., 7., 3., 7., 4., 1., 5., 6.,\n",
       "       2., 2., 8.])"
      ]
     },
     "execution_count": 30,
     "metadata": {},
     "output_type": "execute_result"
    }
   ],
   "source": [
    "%time clf.predict(X_test)"
   ]
  },
  {
   "cell_type": "code",
   "execution_count": 31,
   "metadata": {},
   "outputs": [
    {
     "name": "stdout",
     "output_type": "stream",
     "text": [
      "CPU times: user 4.47 s, sys: 920 ms, total: 5.39 s\n",
      "Wall time: 3.97 s\n"
     ]
    },
    {
     "data": {
      "text/plain": [
       "array([8, 1, 2, 0, 1, 4, 0, 2, 9, 2, 0, 9, 3, 8, 7, 7, 5, 8, 2, 8, 0, 1,\n",
       "       6, 2, 1, 2, 7, 2, 9, 7, 0, 9, 4, 1, 0, 1, 5, 7, 4, 9, 5, 5, 3, 7,\n",
       "       7, 9, 8, 3, 0, 0, 0, 7, 4, 1, 6, 4, 1, 2, 5, 8, 5, 6, 0, 9, 2, 0,\n",
       "       0, 6, 8, 2, 3, 8, 4, 3, 1, 2, 5, 0, 8, 9, 5, 1, 5, 3, 3, 2, 6, 3,\n",
       "       2, 2, 0, 0, 8, 0, 9, 9, 9, 5, 4, 3, 8, 6, 1, 6, 0, 1, 8, 9, 7, 0,\n",
       "       6, 8, 6, 0, 3, 9, 7, 2, 1, 1, 6, 8, 6, 3, 5, 2, 0, 4, 4, 3, 6, 2,\n",
       "       2, 3, 5, 7, 1, 8, 7, 4, 5, 8, 4, 2, 9, 9, 8, 2, 3, 7, 9, 7, 5, 6,\n",
       "       6, 3, 1, 8, 0, 1, 1, 9, 7, 9, 8, 0, 2, 2, 1, 3, 7, 6, 3, 4, 2, 4,\n",
       "       6, 7, 9, 9, 7, 0, 0, 5, 7, 6, 8, 0, 7, 1, 7, 3, 1, 4, 6, 8, 4, 3,\n",
       "       3, 7, 8, 3, 4, 3, 1, 1, 9, 6, 2, 3, 4, 9, 3, 3, 0, 6, 4, 7, 1, 8,\n",
       "       1, 9, 5, 4, 9, 2, 8, 1, 4, 8, 5, 9, 7, 2, 3, 6, 1, 1, 3, 0, 8, 3,\n",
       "       6, 4, 4, 9, 9, 1, 0, 3, 2, 5, 5, 6, 1, 3, 1, 2, 3, 6, 1, 1, 1, 6,\n",
       "       0, 2, 6, 9, 6, 4, 3, 9, 9, 8, 3, 3, 8, 5, 7, 4, 0, 8, 4, 4, 7, 3,\n",
       "       9, 6, 2, 2, 3, 2, 9, 1, 6, 7, 6, 6, 7, 9, 8, 9, 2, 2, 5, 6, 4, 1,\n",
       "       5, 7, 8, 6, 1, 1, 2, 7, 2, 3, 9, 4, 9, 0, 6, 7, 1, 1, 4, 4, 7, 4,\n",
       "       0, 7, 7, 1, 2, 8, 4, 5, 7, 7, 0, 0, 7, 2, 8, 1, 0, 2, 8, 5, 1, 5,\n",
       "       6, 1, 8, 5, 1, 2, 2, 0, 6, 9, 6, 3, 8, 7, 0, 7, 5, 4, 8, 6, 0, 5,\n",
       "       7, 4, 8, 9, 8, 9, 7, 3, 6, 8, 6, 1, 9, 9, 4, 8, 0, 9, 1, 7, 2, 5,\n",
       "       6, 5, 1, 2, 0, 7, 5, 8, 6, 2, 8, 5, 0, 1, 8, 9, 0, 5, 8, 4, 5, 1,\n",
       "       1, 7, 1, 0, 3, 4, 6, 1, 2, 7, 9, 9, 4, 2, 4, 8, 6, 5, 2, 4, 1, 3,\n",
       "       2, 4, 2, 9, 7, 5, 1, 0, 5, 6, 4, 7, 8, 0, 3, 4, 1, 2, 9, 3, 2, 8,\n",
       "       4, 2, 3, 8, 0, 1, 0, 3, 7, 2, 3, 6, 2, 2, 0, 7, 5, 6, 7, 6, 9, 2,\n",
       "       4, 9, 1, 5, 3, 6, 5, 7, 5, 1, 4, 2, 5, 1, 7, 0, 8, 2, 0, 4, 2, 2,\n",
       "       4, 6, 8, 9, 5, 3, 5, 4, 3, 5, 1, 2, 0, 1, 3, 3, 1, 1, 6, 7, 3, 0,\n",
       "       1, 6, 0, 0, 1, 6, 0, 5, 6, 3, 7, 6, 1, 1, 0, 6, 9, 5, 1, 4, 4, 7,\n",
       "       0, 3, 0, 5, 3, 2, 4, 3, 4, 2, 6, 7, 5, 1, 7, 8, 0, 0, 3, 8, 4, 4,\n",
       "       5, 6, 9, 9, 5, 9, 7, 3, 5, 0, 9, 6, 4, 9, 4, 7, 3, 1, 9, 7, 4, 0,\n",
       "       2, 3, 4, 7, 7, 3, 3, 0, 7, 6, 1, 0, 3, 2, 7, 6, 2, 6, 9, 9, 6, 3,\n",
       "       1, 4, 6, 7, 0, 9, 1, 8, 0, 4, 9, 4, 9, 4, 2, 8, 1, 5, 1, 0, 8, 4,\n",
       "       0, 1, 6, 4, 3, 5, 1, 2, 7, 7, 3, 6, 0, 6, 8, 6, 7, 5, 5, 0, 4, 3,\n",
       "       0, 8, 5, 9, 7, 2, 7, 8, 9, 9, 1, 7, 8, 6, 3, 4, 4, 4, 2, 1, 2, 8,\n",
       "       8, 1, 3, 7, 9, 3, 6, 1, 7, 3, 7, 4, 1, 5, 6, 2, 2, 8])"
      ]
     },
     "execution_count": 31,
     "metadata": {},
     "output_type": "execute_result"
    }
   ],
   "source": [
    "%time my_clf.predict(X_test)"
   ]
  },
  {
   "cell_type": "code",
   "execution_count": 32,
   "metadata": {},
   "outputs": [
    {
     "name": "stdout",
     "output_type": "stream",
     "text": [
      "CPU times: user 1min 3s, sys: 582 ms, total: 1min 3s\n",
      "Wall time: 1min 4s\n"
     ]
    },
    {
     "data": {
      "text/plain": [
       "array([[0., 0., 0., ..., 0., 1., 0.],\n",
       "       [0., 1., 0., ..., 0., 0., 0.],\n",
       "       [0., 0., 1., ..., 0., 0., 0.],\n",
       "       ...,\n",
       "       [0., 0., 1., ..., 0., 0., 0.],\n",
       "       [0., 0., 1., ..., 0., 0., 0.],\n",
       "       [0., 0., 0., ..., 0., 1., 0.]])"
      ]
     },
     "execution_count": 32,
     "metadata": {},
     "output_type": "execute_result"
    }
   ],
   "source": [
    "%time clf.predict_proba(X_test)"
   ]
  },
  {
   "cell_type": "code",
   "execution_count": 33,
   "metadata": {},
   "outputs": [
    {
     "name": "stdout",
     "output_type": "stream",
     "text": [
      "CPU times: user 53.4 s, sys: 743 ms, total: 54.1 s\n",
      "Wall time: 56.1 s\n"
     ]
    },
    {
     "data": {
      "text/plain": [
       "array([[0., 0., 0., ..., 0., 1., 0.],\n",
       "       [0., 1., 0., ..., 0., 0., 0.],\n",
       "       [0., 0., 1., ..., 0., 0., 0.],\n",
       "       ...,\n",
       "       [0., 0., 1., ..., 0., 0., 0.],\n",
       "       [0., 0., 1., ..., 0., 0., 0.],\n",
       "       [0., 0., 0., ..., 0., 1., 0.]])"
      ]
     },
     "execution_count": 33,
     "metadata": {},
     "output_type": "execute_result"
    }
   ],
   "source": [
    "%time my_clf.predict_proba(X_test)"
   ]
  },
  {
   "cell_type": "code",
   "execution_count": 34,
   "metadata": {},
   "outputs": [
    {
     "data": {
      "text/plain": [
       "0.97"
      ]
     },
     "execution_count": 34,
     "metadata": {},
     "output_type": "execute_result"
    }
   ],
   "source": [
    "clf.score(X_test, y_test)"
   ]
  },
  {
   "cell_type": "code",
   "execution_count": 35,
   "metadata": {},
   "outputs": [
    {
     "data": {
      "text/plain": [
       "0.97"
      ]
     },
     "execution_count": 35,
     "metadata": {},
     "output_type": "execute_result"
    }
   ],
   "source": [
    "my_clf.score(X_test, y_test)"
   ]
  },
  {
   "cell_type": "markdown",
   "metadata": {},
   "source": [
    "Задание 5"
   ]
  },
  {
   "cell_type": "code",
   "execution_count": 36,
   "metadata": {},
   "outputs": [
    {
     "data": {
      "text/plain": [
       "'\\n\\n'"
      ]
     },
     "execution_count": 36,
     "metadata": {},
     "output_type": "execute_result"
    }
   ],
   "source": [
    "# seaborn\n",
    "\"\"\"\n",
    "Библиотека, основанная на matplotlib, для визуализации данных\n",
    "\"\"\"\n",
    "# matplotlib\n",
    "\"\"\"\n",
    "Билбиотека для потсроения граффиков по данным\n",
    "\"\"\"\n",
    "# train_test_split\n",
    "\"\"\"\n",
    "Функция разбивающая массивы или матрицы на тренировочную и тестовую выборки.\n",
    "\"\"\"\n",
    "# Pipelin%load_ext e (from sklearn.pipeline import Pipeline)\n",
    "\"\"\"\n",
    "Конвйер, позволяет последовательно преобразовать данные\n",
    "\"\"\"\n",
    "# StandardScaler (from sklearn.preprocessing import StandardScaler)\n",
    "\"\"\"\n",
    "Приводит распределение к нормальному виду: среднее значение 0 а стандартное отклонение 1\n",
    "\"\"\"\n",
    "# ClassifierMixin\n",
    "\"\"\"\n",
    "Базовый класс классификаторов sklearn\n",
    "\"\"\"\n",
    "# NeighborsBase\n",
    "\"\"\"\n",
    "Базовый класс для KNN в sklearn\n",
    "\"\"\"\n",
    "# KNeighborsMixin\n",
    "\"\"\"\n",
    "Еще один базовый класс для KNN в sklearn, там написаны методы для поиска блиайших соседей\n",
    "\"\"\"\n",
    "# SupervisedIntegerMixin\n",
    "\"\"\"\n",
    "Базовый класс в sklearn, в котором напиан метод fit() для обучения модели\n",
    "\"\"\""
   ]
  }
 ],
 "metadata": {
  "kernelspec": {
   "display_name": "Python 3",
   "language": "python",
   "name": "python3"
  },
  "language_info": {
   "codemirror_mode": {
    "name": "ipython",
    "version": 3
   },
   "file_extension": ".py",
   "mimetype": "text/x-python",
   "name": "python",
   "nbconvert_exporter": "python",
   "pygments_lexer": "ipython3",
   "version": "3.6.5"
  }
 },
 "nbformat": 4,
 "nbformat_minor": 2
}
